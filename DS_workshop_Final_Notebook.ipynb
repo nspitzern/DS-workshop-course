{
  "cells": [
    {
      "cell_type": "markdown",
      "metadata": {
        "id": "N_hT1nnAsYNN"
      },
      "source": [
        "# Imports"
      ]
    },
    {
      "cell_type": "code",
      "execution_count": null,
      "metadata": {
        "id": "ncpaabIaa-9F"
      },
      "outputs": [],
      "source": [
        "import json\n",
        "import math\n",
        "\n",
        "import numpy as np\n",
        "import pandas as pd\n",
        "\n",
        "import pickle\n",
        "\n",
        "import seaborn as sns\n",
        "import matplotlib.pyplot as plt\n",
        "\n",
        "import sklearn\n",
        "from sklearn.model_selection import train_test_split\n",
        "from sklearn.linear_model import LinearRegression\n",
        "from sklearn.metrics import mean_squared_error, mean_absolute_error, r2_score, mean_absolute_percentage_error\n",
        "\n",
        "import warnings\n",
        "warnings.filterwarnings(\"ignore\")"
      ]
    },
    {
      "cell_type": "code",
      "source": [
        "!git clone https://github.com/nspitzern/DS-workshop-course.git\n",
        "%cd DS-workshop-course/\n",
        "!unzip -o songs_data_big.zip\n",
        "!unzip -o songs_data_clean.zip"
      ],
      "metadata": {
        "colab": {
          "base_uri": "https://localhost:8080/"
        },
        "id": "5SYlM16BAEHu",
        "outputId": "575cdc52-49db-4a8a-f9fe-b2636b159014"
      },
      "execution_count": null,
      "outputs": [
        {
          "output_type": "stream",
          "name": "stdout",
          "text": [
            "Cloning into 'DS-workshop-course'...\n",
            "remote: Enumerating objects: 232, done.\u001b[K\n",
            "remote: Counting objects: 100% (113/113), done.\u001b[K\n",
            "remote: Compressing objects: 100% (72/72), done.\u001b[K\n",
            "remote: Total 232 (delta 70), reused 84 (delta 41), pack-reused 119\u001b[K\n",
            "Receiving objects: 100% (232/232), 415.13 MiB | 32.10 MiB/s, done.\n",
            "Resolving deltas: 100% (134/134), done.\n",
            "/content/DS-workshop-course/DS-workshop-course/DS-workshop-course\n",
            "Archive:  songs_data_big.zip\n",
            "  inflating: artists.csv             \n",
            "  inflating: tracks.csv              \n",
            "Archive:  songs_data_clean.zip\n",
            "  inflating: artists_clean.csv       \n",
            "  inflating: tracks_clean.csv        \n"
          ]
        }
      ]
    },
    {
      "cell_type": "code",
      "execution_count": null,
      "metadata": {
        "colab": {
          "base_uri": "https://localhost:8080/"
        },
        "id": "WaO5VKXb1fI5",
        "outputId": "52d14c9b-6a9f-4d53-980c-291e8e1643c7"
      },
      "outputs": [
        {
          "output_type": "stream",
          "name": "stdout",
          "text": [
            "Looking in indexes: https://pypi.org/simple, https://us-python.pkg.dev/colab-wheels/public/simple/\n",
            "Requirement already satisfied: shap in /usr/local/lib/python3.7/dist-packages (0.41.0)\n",
            "Requirement already satisfied: tqdm>4.25.0 in /usr/local/lib/python3.7/dist-packages (from shap) (4.64.0)\n",
            "Requirement already satisfied: numba in /usr/local/lib/python3.7/dist-packages (from shap) (0.56.0)\n",
            "Requirement already satisfied: pandas in /usr/local/lib/python3.7/dist-packages (from shap) (1.3.5)\n",
            "Requirement already satisfied: packaging>20.9 in /usr/local/lib/python3.7/dist-packages (from shap) (21.3)\n",
            "Requirement already satisfied: scikit-learn in /usr/local/lib/python3.7/dist-packages (from shap) (1.0.2)\n",
            "Requirement already satisfied: slicer==0.0.7 in /usr/local/lib/python3.7/dist-packages (from shap) (0.0.7)\n",
            "Requirement already satisfied: numpy in /usr/local/lib/python3.7/dist-packages (from shap) (1.21.6)\n",
            "Requirement already satisfied: cloudpickle in /usr/local/lib/python3.7/dist-packages (from shap) (1.3.0)\n",
            "Requirement already satisfied: scipy in /usr/local/lib/python3.7/dist-packages (from shap) (1.7.3)\n",
            "Requirement already satisfied: pyparsing!=3.0.5,>=2.0.2 in /usr/local/lib/python3.7/dist-packages (from packaging>20.9->shap) (3.0.9)\n",
            "Requirement already satisfied: importlib-metadata in /usr/local/lib/python3.7/dist-packages (from numba->shap) (4.12.0)\n",
            "Requirement already satisfied: setuptools in /usr/local/lib/python3.7/dist-packages (from numba->shap) (57.4.0)\n",
            "Requirement already satisfied: llvmlite<0.40,>=0.39.0dev0 in /usr/local/lib/python3.7/dist-packages (from numba->shap) (0.39.0)\n",
            "Requirement already satisfied: typing-extensions>=3.6.4 in /usr/local/lib/python3.7/dist-packages (from importlib-metadata->numba->shap) (4.1.1)\n",
            "Requirement already satisfied: zipp>=0.5 in /usr/local/lib/python3.7/dist-packages (from importlib-metadata->numba->shap) (3.8.1)\n",
            "Requirement already satisfied: pytz>=2017.3 in /usr/local/lib/python3.7/dist-packages (from pandas->shap) (2022.1)\n",
            "Requirement already satisfied: python-dateutil>=2.7.3 in /usr/local/lib/python3.7/dist-packages (from pandas->shap) (2.8.2)\n",
            "Requirement already satisfied: six>=1.5 in /usr/local/lib/python3.7/dist-packages (from python-dateutil>=2.7.3->pandas->shap) (1.15.0)\n",
            "Requirement already satisfied: joblib>=0.11 in /usr/local/lib/python3.7/dist-packages (from scikit-learn->shap) (1.1.0)\n",
            "Requirement already satisfied: threadpoolctl>=2.0.0 in /usr/local/lib/python3.7/dist-packages (from scikit-learn->shap) (3.1.0)\n"
          ]
        }
      ],
      "source": [
        "!pip install shap\n",
        "\n",
        "import shap"
      ]
    },
    {
      "cell_type": "markdown",
      "source": [
        "# Util functions"
      ],
      "metadata": {
        "id": "xopPxrSv2DHG"
      }
    },
    {
      "cell_type": "code",
      "source": [
        "# Function that convert mili-second scale to minutes:\n",
        "def ms2minutes(input):\n",
        "    return round(input/60000,2)\n",
        "\n",
        "\n",
        "# Function that do linear regression based our dataset and print scores:\n",
        "def do_linearReg(df):\n",
        "    y = df['popularity']\n",
        "    X = df.drop(['popularity'], axis=1)\n",
        "\n",
        "    X_train, X_test, y_train, y_test = train_test_split(X, y, test_size=0.2, random_state=42)\n",
        "\n",
        "    model = LinearRegression()\n",
        "    prediction = model.fit(X_train,y_train).predict(X_test)\n",
        "\n",
        "    print(\"r2_score:\",\"{:,.3f}\".format(r2_score(y_test,prediction)))\n",
        "    print(\"Mean Absolute Error (Σ|y-pred|/n):\", \"{:,.2f}\".format(mean_absolute_error(y_test, prediction)))\n",
        "    print(\"Root Mean Squared Error (sqrt(Σ(y-pred)^2/n)):\", \"{:,.2f}\".format(np.sqrt(mean_squared_error(y_test, prediction))))\n",
        "\n",
        "\n",
        "# Function that remove outliers:\n",
        "def remove_outliers(df):\n",
        "    first_shape = df.shape[0]\n",
        "    \n",
        "    # Remove duration_mintues outliar values\n",
        "    df = df.drop(df[df[\"duration_minutes\"] > 7].index)\n",
        "    # Remove year outliar values\n",
        "    df = df.drop(df[df[\"year\"] < 1926].index)\n",
        "    # Remove loudness outliar values\n",
        "    df = df.drop(df[df[\"loudness\"] < -30].index)\n",
        "\n",
        "    last_shape = df.shape[0]\n",
        "\n",
        "    print(f\"Outliers removed.\\nThe outliers that remove were {round(100 * (first_shape-last_shape)/first_shape , 2)}% from the whole data.\")\n",
        "    return df\n"
      ],
      "metadata": {
        "id": "0sR-0pBQ1dLP"
      },
      "execution_count": null,
      "outputs": []
    },
    {
      "cell_type": "markdown",
      "metadata": {
        "id": "xUkgZHy3_zuO"
      },
      "source": [
        "# **Dataset Description**\n",
        "We chose the dataset of Spotify songs.\n",
        "\n",
        "Spotify is one of the leading music streaming apps of today with more than 83 million paid subscribers.\n",
        "\n",
        "They compile a yearly list of Top Tracks based on the number of times the songs were streamed by users.\n",
        "\n",
        "We have been curious about what really makes a song likeable to the masses, so\n",
        "our goal is to predict the popularity of each song according Spotify audio features.\n",
        "\n",
        "# Spotify Audio Features\n",
        "For every track on their platform, Spotify provides data for several Audio Features.The Spotify Web API developer guide defines them as follows:\n",
        "\n",
        "*   **Danceability:** Describes how suitable a track is for dancing based on a combination of musical elements including tempo, rhythm stability, beat strength, and overall regularity.\n",
        "\n",
        "*   **Valence:** Describes the musical positiveness conveyed by a track. Tracks with high valence sound more positive (e.g. happy, cheerful, euphoric), while tracks with low valence sound more negative (e.g. sad, depressed, angry).\n",
        "\n",
        "*   **Energy:** Represents a perceptual measure of intensity and activity. Typically, energetic tracks feel fast, loud, and noisy. For example, death metal has high energy, while a Bach prelude scores low on the scale.\n",
        "\n",
        "*   **Tempo:** The overall estimated tempo of a track in beats per minute (BPM). In musical terminology, tempo is the speed or pace of a given piece, and derives directly from the average beat duration.\n",
        "\n",
        "*   **Loudness:** The overall loudness of a track in decibels (dB). Loudness values are averaged across the entire track and are useful for comparing relative loudness of tracks.\n",
        "\n",
        "*   **Speechiness:** This detects the presence of spoken words in a track. The more exclusively speech-like the recording (e.g. talk show, audio book, poetry), the closer to 1.0 the attribute value.\n",
        "\n",
        "*  **Instrumentalness:** Predicts whether a track contains no vocals. “Ooh” and “aah” sounds are treated as instrumental in this context. Rap or spoken word tracks are clearly “vocal”.\n",
        "\n",
        "*   **Liveness:** Detects the presence of an audience in the recording. Higher liveness values represent an increased probability that the track was performed live.\n",
        "\n",
        "*   **Acousticness:** A confidence measure from 0.0 to 1.0 of whether the track is acoustic.\n",
        "\n",
        "*   **Key:** The estimated overall key of the track. Integers map to pitches using standard Pitch Class notation . E.g. 0 = C, 1 = C♯/D♭, 2 = D, and so on.\n",
        "\n",
        "*   **Mode:** Indicates the modality (major or minor) of a track, the type of scale from which its melodic content is derived. Major is represented by 1 and minor is 0.\n",
        "\n",
        "*   **Duration:** The duration of the track in milliseconds.\n",
        "\n",
        "*   **Time Signature:** An estimated overall time signature of a track. The time signature (meter) is a notational convention to specify how many beats are in each bar (or measure).\n",
        "\n",
        "*   **Explicit:** The explicit logo is applied when the lyrics or content of a song or a music video contain one or more of the following criteria which could be considered offensive or unsuitable for children\n",
        "\n",
        "*   **Genres:** The Gener of the artist of the song\n",
        "\n",
        "*   **Year:** The year that the song relese"
      ]
    },
    {
      "cell_type": "markdown",
      "metadata": {
        "id": "nPymKBVUefLI"
      },
      "source": [
        "# Load data"
      ]
    },
    {
      "cell_type": "code",
      "execution_count": null,
      "metadata": {
        "id": "Qiponcw4bRjX"
      },
      "outputs": [],
      "source": [
        "from loader import load_data, convert_genres"
      ]
    },
    {
      "cell_type": "markdown",
      "metadata": {
        "id": "SlnkIo1V9FiI"
      },
      "source": [
        "Change the `load_data` flag to `False` to preform the whole data-preprocessing from scratch."
      ]
    },
    {
      "cell_type": "code",
      "execution_count": null,
      "metadata": {
        "id": "GjiR43RPbz1D"
      },
      "outputs": [],
      "source": [
        "df_tracks, df_artists = load_data('.', load_data=True)"
      ]
    },
    {
      "cell_type": "code",
      "execution_count": null,
      "metadata": {
        "colab": {
          "base_uri": "https://localhost:8080/",
          "height": 277
        },
        "id": "2dmVDsqre4X5",
        "outputId": "3a0cfd1d-52b6-4a7d-bd14-63fcb12d91f0"
      },
      "outputs": [
        {
          "output_type": "execute_result",
          "data": {
            "text/plain": [
              "                             song_name  popularity  duration_ms  explicit  \\\n",
              "0                                Carve           6       126903         0   \n",
              "1  Capítulo 2.16 - Banquero Anarquista           0        98200         0   \n",
              "2   Vivo para Quererte - Remasterizado           0       181640         0   \n",
              "\n",
              "               id_artists  year  danceability  energy  key  loudness  mode  \\\n",
              "0  45tIt06XoI0Iio4LBEVpls  1922         0.645   0.445    0   -13.338     1   \n",
              "1  14jtPCOoNZwquk5wd9DxrY  1922         0.695   0.263    0   -22.136     1   \n",
              "2  5LiOoJbxVSAMkBS2fUm3X2  1922         0.434   0.177    1   -21.180     1   \n",
              "\n",
              "   speechiness  acousticness  instrumentalness  liveness  valence    tempo  \\\n",
              "0       0.4510         0.674            0.7440     0.151    0.127  104.851   \n",
              "1       0.9570         0.797            0.0000     0.148    0.655  102.009   \n",
              "2       0.0512         0.994            0.0218     0.212    0.457  130.418   \n",
              "\n",
              "   time_signature  \n",
              "0               3  \n",
              "1               1  \n",
              "2               5  "
            ],
            "text/html": [
              "\n",
              "  <div id=\"df-57b59b5c-db54-4c1c-aff7-32024b17f4c8\">\n",
              "    <div class=\"colab-df-container\">\n",
              "      <div>\n",
              "<style scoped>\n",
              "    .dataframe tbody tr th:only-of-type {\n",
              "        vertical-align: middle;\n",
              "    }\n",
              "\n",
              "    .dataframe tbody tr th {\n",
              "        vertical-align: top;\n",
              "    }\n",
              "\n",
              "    .dataframe thead th {\n",
              "        text-align: right;\n",
              "    }\n",
              "</style>\n",
              "<table border=\"1\" class=\"dataframe\">\n",
              "  <thead>\n",
              "    <tr style=\"text-align: right;\">\n",
              "      <th></th>\n",
              "      <th>song_name</th>\n",
              "      <th>popularity</th>\n",
              "      <th>duration_ms</th>\n",
              "      <th>explicit</th>\n",
              "      <th>id_artists</th>\n",
              "      <th>year</th>\n",
              "      <th>danceability</th>\n",
              "      <th>energy</th>\n",
              "      <th>key</th>\n",
              "      <th>loudness</th>\n",
              "      <th>mode</th>\n",
              "      <th>speechiness</th>\n",
              "      <th>acousticness</th>\n",
              "      <th>instrumentalness</th>\n",
              "      <th>liveness</th>\n",
              "      <th>valence</th>\n",
              "      <th>tempo</th>\n",
              "      <th>time_signature</th>\n",
              "    </tr>\n",
              "  </thead>\n",
              "  <tbody>\n",
              "    <tr>\n",
              "      <th>0</th>\n",
              "      <td>Carve</td>\n",
              "      <td>6</td>\n",
              "      <td>126903</td>\n",
              "      <td>0</td>\n",
              "      <td>45tIt06XoI0Iio4LBEVpls</td>\n",
              "      <td>1922</td>\n",
              "      <td>0.645</td>\n",
              "      <td>0.445</td>\n",
              "      <td>0</td>\n",
              "      <td>-13.338</td>\n",
              "      <td>1</td>\n",
              "      <td>0.4510</td>\n",
              "      <td>0.674</td>\n",
              "      <td>0.7440</td>\n",
              "      <td>0.151</td>\n",
              "      <td>0.127</td>\n",
              "      <td>104.851</td>\n",
              "      <td>3</td>\n",
              "    </tr>\n",
              "    <tr>\n",
              "      <th>1</th>\n",
              "      <td>Capítulo 2.16 - Banquero Anarquista</td>\n",
              "      <td>0</td>\n",
              "      <td>98200</td>\n",
              "      <td>0</td>\n",
              "      <td>14jtPCOoNZwquk5wd9DxrY</td>\n",
              "      <td>1922</td>\n",
              "      <td>0.695</td>\n",
              "      <td>0.263</td>\n",
              "      <td>0</td>\n",
              "      <td>-22.136</td>\n",
              "      <td>1</td>\n",
              "      <td>0.9570</td>\n",
              "      <td>0.797</td>\n",
              "      <td>0.0000</td>\n",
              "      <td>0.148</td>\n",
              "      <td>0.655</td>\n",
              "      <td>102.009</td>\n",
              "      <td>1</td>\n",
              "    </tr>\n",
              "    <tr>\n",
              "      <th>2</th>\n",
              "      <td>Vivo para Quererte - Remasterizado</td>\n",
              "      <td>0</td>\n",
              "      <td>181640</td>\n",
              "      <td>0</td>\n",
              "      <td>5LiOoJbxVSAMkBS2fUm3X2</td>\n",
              "      <td>1922</td>\n",
              "      <td>0.434</td>\n",
              "      <td>0.177</td>\n",
              "      <td>1</td>\n",
              "      <td>-21.180</td>\n",
              "      <td>1</td>\n",
              "      <td>0.0512</td>\n",
              "      <td>0.994</td>\n",
              "      <td>0.0218</td>\n",
              "      <td>0.212</td>\n",
              "      <td>0.457</td>\n",
              "      <td>130.418</td>\n",
              "      <td>5</td>\n",
              "    </tr>\n",
              "  </tbody>\n",
              "</table>\n",
              "</div>\n",
              "      <button class=\"colab-df-convert\" onclick=\"convertToInteractive('df-57b59b5c-db54-4c1c-aff7-32024b17f4c8')\"\n",
              "              title=\"Convert this dataframe to an interactive table.\"\n",
              "              style=\"display:none;\">\n",
              "        \n",
              "  <svg xmlns=\"http://www.w3.org/2000/svg\" height=\"24px\"viewBox=\"0 0 24 24\"\n",
              "       width=\"24px\">\n",
              "    <path d=\"M0 0h24v24H0V0z\" fill=\"none\"/>\n",
              "    <path d=\"M18.56 5.44l.94 2.06.94-2.06 2.06-.94-2.06-.94-.94-2.06-.94 2.06-2.06.94zm-11 1L8.5 8.5l.94-2.06 2.06-.94-2.06-.94L8.5 2.5l-.94 2.06-2.06.94zm10 10l.94 2.06.94-2.06 2.06-.94-2.06-.94-.94-2.06-.94 2.06-2.06.94z\"/><path d=\"M17.41 7.96l-1.37-1.37c-.4-.4-.92-.59-1.43-.59-.52 0-1.04.2-1.43.59L10.3 9.45l-7.72 7.72c-.78.78-.78 2.05 0 2.83L4 21.41c.39.39.9.59 1.41.59.51 0 1.02-.2 1.41-.59l7.78-7.78 2.81-2.81c.8-.78.8-2.07 0-2.86zM5.41 20L4 18.59l7.72-7.72 1.47 1.35L5.41 20z\"/>\n",
              "  </svg>\n",
              "      </button>\n",
              "      \n",
              "  <style>\n",
              "    .colab-df-container {\n",
              "      display:flex;\n",
              "      flex-wrap:wrap;\n",
              "      gap: 12px;\n",
              "    }\n",
              "\n",
              "    .colab-df-convert {\n",
              "      background-color: #E8F0FE;\n",
              "      border: none;\n",
              "      border-radius: 50%;\n",
              "      cursor: pointer;\n",
              "      display: none;\n",
              "      fill: #1967D2;\n",
              "      height: 32px;\n",
              "      padding: 0 0 0 0;\n",
              "      width: 32px;\n",
              "    }\n",
              "\n",
              "    .colab-df-convert:hover {\n",
              "      background-color: #E2EBFA;\n",
              "      box-shadow: 0px 1px 2px rgba(60, 64, 67, 0.3), 0px 1px 3px 1px rgba(60, 64, 67, 0.15);\n",
              "      fill: #174EA6;\n",
              "    }\n",
              "\n",
              "    [theme=dark] .colab-df-convert {\n",
              "      background-color: #3B4455;\n",
              "      fill: #D2E3FC;\n",
              "    }\n",
              "\n",
              "    [theme=dark] .colab-df-convert:hover {\n",
              "      background-color: #434B5C;\n",
              "      box-shadow: 0px 1px 3px 1px rgba(0, 0, 0, 0.15);\n",
              "      filter: drop-shadow(0px 1px 2px rgba(0, 0, 0, 0.3));\n",
              "      fill: #FFFFFF;\n",
              "    }\n",
              "  </style>\n",
              "\n",
              "      <script>\n",
              "        const buttonEl =\n",
              "          document.querySelector('#df-57b59b5c-db54-4c1c-aff7-32024b17f4c8 button.colab-df-convert');\n",
              "        buttonEl.style.display =\n",
              "          google.colab.kernel.accessAllowed ? 'block' : 'none';\n",
              "\n",
              "        async function convertToInteractive(key) {\n",
              "          const element = document.querySelector('#df-57b59b5c-db54-4c1c-aff7-32024b17f4c8');\n",
              "          const dataTable =\n",
              "            await google.colab.kernel.invokeFunction('convertToInteractive',\n",
              "                                                     [key], {});\n",
              "          if (!dataTable) return;\n",
              "\n",
              "          const docLinkHtml = 'Like what you see? Visit the ' +\n",
              "            '<a target=\"_blank\" href=https://colab.research.google.com/notebooks/data_table.ipynb>data table notebook</a>'\n",
              "            + ' to learn more about interactive tables.';\n",
              "          element.innerHTML = '';\n",
              "          dataTable['output_type'] = 'display_data';\n",
              "          await google.colab.output.renderOutput(dataTable, element);\n",
              "          const docLink = document.createElement('div');\n",
              "          docLink.innerHTML = docLinkHtml;\n",
              "          element.appendChild(docLink);\n",
              "        }\n",
              "      </script>\n",
              "    </div>\n",
              "  </div>\n",
              "  "
            ]
          },
          "metadata": {},
          "execution_count": 179
        }
      ],
      "source": [
        "df_tracks.head(3)"
      ]
    },
    {
      "cell_type": "code",
      "execution_count": null,
      "metadata": {
        "colab": {
          "base_uri": "https://localhost:8080/",
          "height": 143
        },
        "id": "0o2QEhinlwnT",
        "outputId": "dc874b94-dc14-418a-bed4-a0d4b94d1c3a"
      },
      "outputs": [
        {
          "output_type": "execute_result",
          "data": {
            "text/plain": [
              "               id_artists  followers genres  \\\n",
              "0  0DheY5irMjBUeLybbCUEZ2        0.0    NaN   \n",
              "1  0DlhY15l3wsrnlfGio2bjU        5.0    NaN   \n",
              "2  0DmRESX2JknGPQyO15yxg7        0.0    NaN   \n",
              "\n",
              "                                      artist_name  artist_popularity  \n",
              "0  Armid & Amir Zare Pashai feat. Sara Rouzbehani                  0  \n",
              "1                                     ปูนา ภาวิณี                  0  \n",
              "2                                           Sadaa                  0  "
            ],
            "text/html": [
              "\n",
              "  <div id=\"df-e06ee630-a806-477f-840a-aa299759233b\">\n",
              "    <div class=\"colab-df-container\">\n",
              "      <div>\n",
              "<style scoped>\n",
              "    .dataframe tbody tr th:only-of-type {\n",
              "        vertical-align: middle;\n",
              "    }\n",
              "\n",
              "    .dataframe tbody tr th {\n",
              "        vertical-align: top;\n",
              "    }\n",
              "\n",
              "    .dataframe thead th {\n",
              "        text-align: right;\n",
              "    }\n",
              "</style>\n",
              "<table border=\"1\" class=\"dataframe\">\n",
              "  <thead>\n",
              "    <tr style=\"text-align: right;\">\n",
              "      <th></th>\n",
              "      <th>id_artists</th>\n",
              "      <th>followers</th>\n",
              "      <th>genres</th>\n",
              "      <th>artist_name</th>\n",
              "      <th>artist_popularity</th>\n",
              "    </tr>\n",
              "  </thead>\n",
              "  <tbody>\n",
              "    <tr>\n",
              "      <th>0</th>\n",
              "      <td>0DheY5irMjBUeLybbCUEZ2</td>\n",
              "      <td>0.0</td>\n",
              "      <td>NaN</td>\n",
              "      <td>Armid &amp; Amir Zare Pashai feat. Sara Rouzbehani</td>\n",
              "      <td>0</td>\n",
              "    </tr>\n",
              "    <tr>\n",
              "      <th>1</th>\n",
              "      <td>0DlhY15l3wsrnlfGio2bjU</td>\n",
              "      <td>5.0</td>\n",
              "      <td>NaN</td>\n",
              "      <td>ปูนา ภาวิณี</td>\n",
              "      <td>0</td>\n",
              "    </tr>\n",
              "    <tr>\n",
              "      <th>2</th>\n",
              "      <td>0DmRESX2JknGPQyO15yxg7</td>\n",
              "      <td>0.0</td>\n",
              "      <td>NaN</td>\n",
              "      <td>Sadaa</td>\n",
              "      <td>0</td>\n",
              "    </tr>\n",
              "  </tbody>\n",
              "</table>\n",
              "</div>\n",
              "      <button class=\"colab-df-convert\" onclick=\"convertToInteractive('df-e06ee630-a806-477f-840a-aa299759233b')\"\n",
              "              title=\"Convert this dataframe to an interactive table.\"\n",
              "              style=\"display:none;\">\n",
              "        \n",
              "  <svg xmlns=\"http://www.w3.org/2000/svg\" height=\"24px\"viewBox=\"0 0 24 24\"\n",
              "       width=\"24px\">\n",
              "    <path d=\"M0 0h24v24H0V0z\" fill=\"none\"/>\n",
              "    <path d=\"M18.56 5.44l.94 2.06.94-2.06 2.06-.94-2.06-.94-.94-2.06-.94 2.06-2.06.94zm-11 1L8.5 8.5l.94-2.06 2.06-.94-2.06-.94L8.5 2.5l-.94 2.06-2.06.94zm10 10l.94 2.06.94-2.06 2.06-.94-2.06-.94-.94-2.06-.94 2.06-2.06.94z\"/><path d=\"M17.41 7.96l-1.37-1.37c-.4-.4-.92-.59-1.43-.59-.52 0-1.04.2-1.43.59L10.3 9.45l-7.72 7.72c-.78.78-.78 2.05 0 2.83L4 21.41c.39.39.9.59 1.41.59.51 0 1.02-.2 1.41-.59l7.78-7.78 2.81-2.81c.8-.78.8-2.07 0-2.86zM5.41 20L4 18.59l7.72-7.72 1.47 1.35L5.41 20z\"/>\n",
              "  </svg>\n",
              "      </button>\n",
              "      \n",
              "  <style>\n",
              "    .colab-df-container {\n",
              "      display:flex;\n",
              "      flex-wrap:wrap;\n",
              "      gap: 12px;\n",
              "    }\n",
              "\n",
              "    .colab-df-convert {\n",
              "      background-color: #E8F0FE;\n",
              "      border: none;\n",
              "      border-radius: 50%;\n",
              "      cursor: pointer;\n",
              "      display: none;\n",
              "      fill: #1967D2;\n",
              "      height: 32px;\n",
              "      padding: 0 0 0 0;\n",
              "      width: 32px;\n",
              "    }\n",
              "\n",
              "    .colab-df-convert:hover {\n",
              "      background-color: #E2EBFA;\n",
              "      box-shadow: 0px 1px 2px rgba(60, 64, 67, 0.3), 0px 1px 3px 1px rgba(60, 64, 67, 0.15);\n",
              "      fill: #174EA6;\n",
              "    }\n",
              "\n",
              "    [theme=dark] .colab-df-convert {\n",
              "      background-color: #3B4455;\n",
              "      fill: #D2E3FC;\n",
              "    }\n",
              "\n",
              "    [theme=dark] .colab-df-convert:hover {\n",
              "      background-color: #434B5C;\n",
              "      box-shadow: 0px 1px 3px 1px rgba(0, 0, 0, 0.15);\n",
              "      filter: drop-shadow(0px 1px 2px rgba(0, 0, 0, 0.3));\n",
              "      fill: #FFFFFF;\n",
              "    }\n",
              "  </style>\n",
              "\n",
              "      <script>\n",
              "        const buttonEl =\n",
              "          document.querySelector('#df-e06ee630-a806-477f-840a-aa299759233b button.colab-df-convert');\n",
              "        buttonEl.style.display =\n",
              "          google.colab.kernel.accessAllowed ? 'block' : 'none';\n",
              "\n",
              "        async function convertToInteractive(key) {\n",
              "          const element = document.querySelector('#df-e06ee630-a806-477f-840a-aa299759233b');\n",
              "          const dataTable =\n",
              "            await google.colab.kernel.invokeFunction('convertToInteractive',\n",
              "                                                     [key], {});\n",
              "          if (!dataTable) return;\n",
              "\n",
              "          const docLinkHtml = 'Like what you see? Visit the ' +\n",
              "            '<a target=\"_blank\" href=https://colab.research.google.com/notebooks/data_table.ipynb>data table notebook</a>'\n",
              "            + ' to learn more about interactive tables.';\n",
              "          element.innerHTML = '';\n",
              "          dataTable['output_type'] = 'display_data';\n",
              "          await google.colab.output.renderOutput(dataTable, element);\n",
              "          const docLink = document.createElement('div');\n",
              "          docLink.innerHTML = docLinkHtml;\n",
              "          element.appendChild(docLink);\n",
              "        }\n",
              "      </script>\n",
              "    </div>\n",
              "  </div>\n",
              "  "
            ]
          },
          "metadata": {},
          "execution_count": 180
        }
      ],
      "source": [
        "df_artists.head(3)"
      ]
    },
    {
      "cell_type": "markdown",
      "metadata": {
        "id": "htIi6u05BIIs"
      },
      "source": [
        "The tracks table contains the features of each song, while the artists table contains meta-data about each artist.\n",
        "Each song is accosiated with the artist that performed the song."
      ]
    },
    {
      "cell_type": "code",
      "execution_count": null,
      "metadata": {
        "id": "Kq2GJ_CUWg5z"
      },
      "outputs": [],
      "source": [
        "original_df = df_tracks.merge(df_artists[['genres','id_artists']], on='id_artists', how='left')"
      ]
    },
    {
      "cell_type": "markdown",
      "metadata": {
        "id": "FrUsvPp5PdTj"
      },
      "source": [
        "Extract the genres from the artists_df"
      ]
    },
    {
      "cell_type": "code",
      "execution_count": null,
      "metadata": {
        "id": "kkt5FJfE7lKi"
      },
      "outputs": [],
      "source": [
        "original_df = convert_genres(original_df)"
      ]
    },
    {
      "cell_type": "markdown",
      "source": [
        "remove time signature of 0 (impossible)"
      ],
      "metadata": {
        "id": "5x9HZImOyXGz"
      }
    },
    {
      "cell_type": "code",
      "source": [
        "original_df = original_df[original_df.time_signature > 0]"
      ],
      "metadata": {
        "id": "AoESu0viySHe"
      },
      "execution_count": null,
      "outputs": []
    },
    {
      "cell_type": "markdown",
      "metadata": {
        "id": "qnbBtlLB1f9v"
      },
      "source": [
        "Create data frame withoout *id_artists* and *song_name* columns, and for nice visual, we convert duration from mili second to minutes.\n"
      ]
    },
    {
      "cell_type": "code",
      "execution_count": null,
      "metadata": {
        "colab": {
          "base_uri": "https://localhost:8080/",
          "height": 206
        },
        "id": "qqL0gaL81lOT",
        "outputId": "1a5c1742-713b-461d-d56e-6c6e7678ef58"
      },
      "outputs": [
        {
          "output_type": "execute_result",
          "data": {
            "text/plain": [
              "   popularity  duration_minutes  explicit  year  danceability  energy  key  \\\n",
              "0           6              2.12         0  1922         0.645  0.4450    0   \n",
              "1           0              1.64         0  1922         0.695  0.2630    0   \n",
              "2           0              3.03         0  1922         0.434  0.1770    1   \n",
              "3           0              2.95         0  1922         0.321  0.0946    7   \n",
              "4           0              2.72         0  1922         0.402  0.1580    3   \n",
              "\n",
              "   loudness  mode  speechiness  acousticness  instrumentalness  liveness  \\\n",
              "0   -13.338     1       0.4510         0.674            0.7440     0.151   \n",
              "1   -22.136     1       0.9570         0.797            0.0000     0.148   \n",
              "2   -21.180     1       0.0512         0.994            0.0218     0.212   \n",
              "3   -27.961     1       0.0504         0.995            0.9180     0.104   \n",
              "4   -16.900     0       0.0390         0.989            0.1300     0.311   \n",
              "\n",
              "   valence    tempo  time_signature genres  \n",
              "0    0.127  104.851               3    UNK  \n",
              "1    0.655  102.009               1    UNK  \n",
              "2    0.457  130.418               5  tango  \n",
              "3    0.397  169.980               3  tango  \n",
              "4    0.196  103.220               4    UNK  "
            ],
            "text/html": [
              "\n",
              "  <div id=\"df-dd35e3b1-0c1b-4689-a279-c4b27c16ed1e\">\n",
              "    <div class=\"colab-df-container\">\n",
              "      <div>\n",
              "<style scoped>\n",
              "    .dataframe tbody tr th:only-of-type {\n",
              "        vertical-align: middle;\n",
              "    }\n",
              "\n",
              "    .dataframe tbody tr th {\n",
              "        vertical-align: top;\n",
              "    }\n",
              "\n",
              "    .dataframe thead th {\n",
              "        text-align: right;\n",
              "    }\n",
              "</style>\n",
              "<table border=\"1\" class=\"dataframe\">\n",
              "  <thead>\n",
              "    <tr style=\"text-align: right;\">\n",
              "      <th></th>\n",
              "      <th>popularity</th>\n",
              "      <th>duration_minutes</th>\n",
              "      <th>explicit</th>\n",
              "      <th>year</th>\n",
              "      <th>danceability</th>\n",
              "      <th>energy</th>\n",
              "      <th>key</th>\n",
              "      <th>loudness</th>\n",
              "      <th>mode</th>\n",
              "      <th>speechiness</th>\n",
              "      <th>acousticness</th>\n",
              "      <th>instrumentalness</th>\n",
              "      <th>liveness</th>\n",
              "      <th>valence</th>\n",
              "      <th>tempo</th>\n",
              "      <th>time_signature</th>\n",
              "      <th>genres</th>\n",
              "    </tr>\n",
              "  </thead>\n",
              "  <tbody>\n",
              "    <tr>\n",
              "      <th>0</th>\n",
              "      <td>6</td>\n",
              "      <td>2.12</td>\n",
              "      <td>0</td>\n",
              "      <td>1922</td>\n",
              "      <td>0.645</td>\n",
              "      <td>0.4450</td>\n",
              "      <td>0</td>\n",
              "      <td>-13.338</td>\n",
              "      <td>1</td>\n",
              "      <td>0.4510</td>\n",
              "      <td>0.674</td>\n",
              "      <td>0.7440</td>\n",
              "      <td>0.151</td>\n",
              "      <td>0.127</td>\n",
              "      <td>104.851</td>\n",
              "      <td>3</td>\n",
              "      <td>UNK</td>\n",
              "    </tr>\n",
              "    <tr>\n",
              "      <th>1</th>\n",
              "      <td>0</td>\n",
              "      <td>1.64</td>\n",
              "      <td>0</td>\n",
              "      <td>1922</td>\n",
              "      <td>0.695</td>\n",
              "      <td>0.2630</td>\n",
              "      <td>0</td>\n",
              "      <td>-22.136</td>\n",
              "      <td>1</td>\n",
              "      <td>0.9570</td>\n",
              "      <td>0.797</td>\n",
              "      <td>0.0000</td>\n",
              "      <td>0.148</td>\n",
              "      <td>0.655</td>\n",
              "      <td>102.009</td>\n",
              "      <td>1</td>\n",
              "      <td>UNK</td>\n",
              "    </tr>\n",
              "    <tr>\n",
              "      <th>2</th>\n",
              "      <td>0</td>\n",
              "      <td>3.03</td>\n",
              "      <td>0</td>\n",
              "      <td>1922</td>\n",
              "      <td>0.434</td>\n",
              "      <td>0.1770</td>\n",
              "      <td>1</td>\n",
              "      <td>-21.180</td>\n",
              "      <td>1</td>\n",
              "      <td>0.0512</td>\n",
              "      <td>0.994</td>\n",
              "      <td>0.0218</td>\n",
              "      <td>0.212</td>\n",
              "      <td>0.457</td>\n",
              "      <td>130.418</td>\n",
              "      <td>5</td>\n",
              "      <td>tango</td>\n",
              "    </tr>\n",
              "    <tr>\n",
              "      <th>3</th>\n",
              "      <td>0</td>\n",
              "      <td>2.95</td>\n",
              "      <td>0</td>\n",
              "      <td>1922</td>\n",
              "      <td>0.321</td>\n",
              "      <td>0.0946</td>\n",
              "      <td>7</td>\n",
              "      <td>-27.961</td>\n",
              "      <td>1</td>\n",
              "      <td>0.0504</td>\n",
              "      <td>0.995</td>\n",
              "      <td>0.9180</td>\n",
              "      <td>0.104</td>\n",
              "      <td>0.397</td>\n",
              "      <td>169.980</td>\n",
              "      <td>3</td>\n",
              "      <td>tango</td>\n",
              "    </tr>\n",
              "    <tr>\n",
              "      <th>4</th>\n",
              "      <td>0</td>\n",
              "      <td>2.72</td>\n",
              "      <td>0</td>\n",
              "      <td>1922</td>\n",
              "      <td>0.402</td>\n",
              "      <td>0.1580</td>\n",
              "      <td>3</td>\n",
              "      <td>-16.900</td>\n",
              "      <td>0</td>\n",
              "      <td>0.0390</td>\n",
              "      <td>0.989</td>\n",
              "      <td>0.1300</td>\n",
              "      <td>0.311</td>\n",
              "      <td>0.196</td>\n",
              "      <td>103.220</td>\n",
              "      <td>4</td>\n",
              "      <td>UNK</td>\n",
              "    </tr>\n",
              "  </tbody>\n",
              "</table>\n",
              "</div>\n",
              "      <button class=\"colab-df-convert\" onclick=\"convertToInteractive('df-dd35e3b1-0c1b-4689-a279-c4b27c16ed1e')\"\n",
              "              title=\"Convert this dataframe to an interactive table.\"\n",
              "              style=\"display:none;\">\n",
              "        \n",
              "  <svg xmlns=\"http://www.w3.org/2000/svg\" height=\"24px\"viewBox=\"0 0 24 24\"\n",
              "       width=\"24px\">\n",
              "    <path d=\"M0 0h24v24H0V0z\" fill=\"none\"/>\n",
              "    <path d=\"M18.56 5.44l.94 2.06.94-2.06 2.06-.94-2.06-.94-.94-2.06-.94 2.06-2.06.94zm-11 1L8.5 8.5l.94-2.06 2.06-.94-2.06-.94L8.5 2.5l-.94 2.06-2.06.94zm10 10l.94 2.06.94-2.06 2.06-.94-2.06-.94-.94-2.06-.94 2.06-2.06.94z\"/><path d=\"M17.41 7.96l-1.37-1.37c-.4-.4-.92-.59-1.43-.59-.52 0-1.04.2-1.43.59L10.3 9.45l-7.72 7.72c-.78.78-.78 2.05 0 2.83L4 21.41c.39.39.9.59 1.41.59.51 0 1.02-.2 1.41-.59l7.78-7.78 2.81-2.81c.8-.78.8-2.07 0-2.86zM5.41 20L4 18.59l7.72-7.72 1.47 1.35L5.41 20z\"/>\n",
              "  </svg>\n",
              "      </button>\n",
              "      \n",
              "  <style>\n",
              "    .colab-df-container {\n",
              "      display:flex;\n",
              "      flex-wrap:wrap;\n",
              "      gap: 12px;\n",
              "    }\n",
              "\n",
              "    .colab-df-convert {\n",
              "      background-color: #E8F0FE;\n",
              "      border: none;\n",
              "      border-radius: 50%;\n",
              "      cursor: pointer;\n",
              "      display: none;\n",
              "      fill: #1967D2;\n",
              "      height: 32px;\n",
              "      padding: 0 0 0 0;\n",
              "      width: 32px;\n",
              "    }\n",
              "\n",
              "    .colab-df-convert:hover {\n",
              "      background-color: #E2EBFA;\n",
              "      box-shadow: 0px 1px 2px rgba(60, 64, 67, 0.3), 0px 1px 3px 1px rgba(60, 64, 67, 0.15);\n",
              "      fill: #174EA6;\n",
              "    }\n",
              "\n",
              "    [theme=dark] .colab-df-convert {\n",
              "      background-color: #3B4455;\n",
              "      fill: #D2E3FC;\n",
              "    }\n",
              "\n",
              "    [theme=dark] .colab-df-convert:hover {\n",
              "      background-color: #434B5C;\n",
              "      box-shadow: 0px 1px 3px 1px rgba(0, 0, 0, 0.15);\n",
              "      filter: drop-shadow(0px 1px 2px rgba(0, 0, 0, 0.3));\n",
              "      fill: #FFFFFF;\n",
              "    }\n",
              "  </style>\n",
              "\n",
              "      <script>\n",
              "        const buttonEl =\n",
              "          document.querySelector('#df-dd35e3b1-0c1b-4689-a279-c4b27c16ed1e button.colab-df-convert');\n",
              "        buttonEl.style.display =\n",
              "          google.colab.kernel.accessAllowed ? 'block' : 'none';\n",
              "\n",
              "        async function convertToInteractive(key) {\n",
              "          const element = document.querySelector('#df-dd35e3b1-0c1b-4689-a279-c4b27c16ed1e');\n",
              "          const dataTable =\n",
              "            await google.colab.kernel.invokeFunction('convertToInteractive',\n",
              "                                                     [key], {});\n",
              "          if (!dataTable) return;\n",
              "\n",
              "          const docLinkHtml = 'Like what you see? Visit the ' +\n",
              "            '<a target=\"_blank\" href=https://colab.research.google.com/notebooks/data_table.ipynb>data table notebook</a>'\n",
              "            + ' to learn more about interactive tables.';\n",
              "          element.innerHTML = '';\n",
              "          dataTable['output_type'] = 'display_data';\n",
              "          await google.colab.output.renderOutput(dataTable, element);\n",
              "          const docLink = document.createElement('div');\n",
              "          docLink.innerHTML = docLinkHtml;\n",
              "          element.appendChild(docLink);\n",
              "        }\n",
              "      </script>\n",
              "    </div>\n",
              "  </div>\n",
              "  "
            ]
          },
          "metadata": {},
          "execution_count": 184
        }
      ],
      "source": [
        "df = original_df.copy()\n",
        "\n",
        "# Drop id_artists and song_name column:\n",
        "df.drop(['id_artists', 'song_name'], axis=1, inplace=True)\n",
        "\n",
        "# Convert mili-second scale to minutes:\n",
        "df[\"duration_ms\"] = df[\"duration_ms\"].apply(ms2minutes)\n",
        "df.rename(columns = {\"duration_ms\" : \"duration_minutes\"}, inplace = True)\n",
        "\n",
        "df.head()"
      ]
    },
    {
      "cell_type": "markdown",
      "source": [
        "Check if there null values"
      ],
      "metadata": {
        "id": "JFBxEaoZFji_"
      }
    },
    {
      "cell_type": "code",
      "execution_count": null,
      "metadata": {
        "colab": {
          "base_uri": "https://localhost:8080/"
        },
        "id": "IPm_lT7nnZlv",
        "outputId": "8f59568f-4097-4832-ca27-4cf318940ca0"
      },
      "outputs": [
        {
          "output_type": "execute_result",
          "data": {
            "text/plain": [
              "False"
            ]
          },
          "metadata": {},
          "execution_count": 185
        }
      ],
      "source": [
        "df.isnull().values.any()"
      ]
    },
    {
      "cell_type": "markdown",
      "source": [
        "Check the types of the features"
      ],
      "metadata": {
        "id": "hBan379lFssj"
      }
    },
    {
      "cell_type": "code",
      "execution_count": null,
      "metadata": {
        "colab": {
          "base_uri": "https://localhost:8080/"
        },
        "id": "d5loJSb1kxBm",
        "outputId": "80ccdddd-0b71-43a5-8431-93b410700758"
      },
      "outputs": [
        {
          "output_type": "stream",
          "name": "stdout",
          "text": [
            "<class 'pandas.core.frame.DataFrame'>\n",
            "Int64Index: 754300 entries, 0 to 754832\n",
            "Data columns (total 17 columns):\n",
            " #   Column            Non-Null Count   Dtype  \n",
            "---  ------            --------------   -----  \n",
            " 0   popularity        754300 non-null  int64  \n",
            " 1   duration_minutes  754300 non-null  float64\n",
            " 2   explicit          754300 non-null  int64  \n",
            " 3   year              754300 non-null  int64  \n",
            " 4   danceability      754300 non-null  float64\n",
            " 5   energy            754300 non-null  float64\n",
            " 6   key               754300 non-null  int64  \n",
            " 7   loudness          754300 non-null  float64\n",
            " 8   mode              754300 non-null  int64  \n",
            " 9   speechiness       754300 non-null  float64\n",
            " 10  acousticness      754300 non-null  float64\n",
            " 11  instrumentalness  754300 non-null  float64\n",
            " 12  liveness          754300 non-null  float64\n",
            " 13  valence           754300 non-null  float64\n",
            " 14  tempo             754300 non-null  float64\n",
            " 15  time_signature    754300 non-null  int64  \n",
            " 16  genres            754300 non-null  object \n",
            "dtypes: float64(10), int64(6), object(1)\n",
            "memory usage: 103.6+ MB\n"
          ]
        }
      ],
      "source": [
        "df.info()"
      ]
    },
    {
      "cell_type": "markdown",
      "source": [
        "We see that genres isn't int or float, so it's must be categorical so we convert him to category"
      ],
      "metadata": {
        "id": "oyORWjeFF0HM"
      }
    },
    {
      "cell_type": "code",
      "execution_count": null,
      "metadata": {
        "id": "-q2YGSHer8jb"
      },
      "outputs": [],
      "source": [
        "df['genres'] = df['genres'].astype('category')\n",
        "gen_list = df['genres'].unique().tolist()\n",
        "gen2int_dict = {g:i for i,g in enumerate(gen_list)}\n",
        "dummy = gen2int_dict[\"UNK\"]\n",
        "gen2int_dict[gen_list[dummy]] = dummy"
      ]
    },
    {
      "cell_type": "code",
      "source": [
        "df['genres'] = df['genres'].map(gen2int_dict)\n",
        "df"
      ],
      "metadata": {
        "colab": {
          "base_uri": "https://localhost:8080/",
          "height": 468
        },
        "id": "c4LG-W4S59x-",
        "outputId": "26d4ba90-5326-4039-8a99-8c8ba790823c"
      },
      "execution_count": null,
      "outputs": [
        {
          "output_type": "execute_result",
          "data": {
            "text/plain": [
              "        popularity  duration_minutes  explicit  year  danceability  energy  \\\n",
              "0                6              2.12         0  1922         0.645  0.4450   \n",
              "1                0              1.64         0  1922         0.695  0.2630   \n",
              "2                0              3.03         0  1922         0.434  0.1770   \n",
              "3                0              2.95         0  1922         0.321  0.0946   \n",
              "4                0              2.72         0  1922         0.402  0.1580   \n",
              "...            ...               ...       ...   ...           ...     ...   \n",
              "754828          72              2.55         0  2020         0.765  0.6630   \n",
              "754829          70              3.13         0  2020         0.535  0.3140   \n",
              "754830          58              2.37         0  2021         0.696  0.6150   \n",
              "754831          58              2.37         0  2021         0.696  0.6150   \n",
              "754832          38              3.57         0  2015         0.686  0.7230   \n",
              "\n",
              "        key  loudness  mode  speechiness  acousticness  instrumentalness  \\\n",
              "0         0   -13.338     1       0.4510         0.674          0.744000   \n",
              "1         0   -22.136     1       0.9570         0.797          0.000000   \n",
              "2         1   -21.180     1       0.0512         0.994          0.021800   \n",
              "3         7   -27.961     1       0.0504         0.995          0.918000   \n",
              "4         3   -16.900     0       0.0390         0.989          0.130000   \n",
              "...     ...       ...   ...          ...           ...               ...   \n",
              "754828    0    -5.223     1       0.0652         0.141          0.000297   \n",
              "754829    7   -12.823     0       0.0408         0.895          0.000150   \n",
              "754830   10    -6.212     1       0.0345         0.206          0.000003   \n",
              "754831   10    -6.212     1       0.0345         0.206          0.000003   \n",
              "754832    6    -7.067     1       0.0363         0.105          0.000000   \n",
              "\n",
              "        liveness  valence    tempo  time_signature genres  \n",
              "0         0.1510   0.1270  104.851               3      0  \n",
              "1         0.1480   0.6550  102.009               1      0  \n",
              "2         0.2120   0.4570  130.418               5      1  \n",
              "3         0.1040   0.3970  169.980               3      1  \n",
              "4         0.3110   0.1960  103.220               4      0  \n",
              "...          ...      ...      ...             ...    ...  \n",
              "754828    0.0924   0.6860  150.091               4      0  \n",
              "754829    0.0874   0.0663  145.095               4      0  \n",
              "754830    0.3050   0.4380   90.029               4      0  \n",
              "754831    0.3050   0.4380   90.029               4      0  \n",
              "754832    0.2640   0.9750  112.204               4      0  \n",
              "\n",
              "[754300 rows x 17 columns]"
            ],
            "text/html": [
              "\n",
              "  <div id=\"df-a9586111-17ec-487b-a04a-2e759c05c29c\">\n",
              "    <div class=\"colab-df-container\">\n",
              "      <div>\n",
              "<style scoped>\n",
              "    .dataframe tbody tr th:only-of-type {\n",
              "        vertical-align: middle;\n",
              "    }\n",
              "\n",
              "    .dataframe tbody tr th {\n",
              "        vertical-align: top;\n",
              "    }\n",
              "\n",
              "    .dataframe thead th {\n",
              "        text-align: right;\n",
              "    }\n",
              "</style>\n",
              "<table border=\"1\" class=\"dataframe\">\n",
              "  <thead>\n",
              "    <tr style=\"text-align: right;\">\n",
              "      <th></th>\n",
              "      <th>popularity</th>\n",
              "      <th>duration_minutes</th>\n",
              "      <th>explicit</th>\n",
              "      <th>year</th>\n",
              "      <th>danceability</th>\n",
              "      <th>energy</th>\n",
              "      <th>key</th>\n",
              "      <th>loudness</th>\n",
              "      <th>mode</th>\n",
              "      <th>speechiness</th>\n",
              "      <th>acousticness</th>\n",
              "      <th>instrumentalness</th>\n",
              "      <th>liveness</th>\n",
              "      <th>valence</th>\n",
              "      <th>tempo</th>\n",
              "      <th>time_signature</th>\n",
              "      <th>genres</th>\n",
              "    </tr>\n",
              "  </thead>\n",
              "  <tbody>\n",
              "    <tr>\n",
              "      <th>0</th>\n",
              "      <td>6</td>\n",
              "      <td>2.12</td>\n",
              "      <td>0</td>\n",
              "      <td>1922</td>\n",
              "      <td>0.645</td>\n",
              "      <td>0.4450</td>\n",
              "      <td>0</td>\n",
              "      <td>-13.338</td>\n",
              "      <td>1</td>\n",
              "      <td>0.4510</td>\n",
              "      <td>0.674</td>\n",
              "      <td>0.744000</td>\n",
              "      <td>0.1510</td>\n",
              "      <td>0.1270</td>\n",
              "      <td>104.851</td>\n",
              "      <td>3</td>\n",
              "      <td>0</td>\n",
              "    </tr>\n",
              "    <tr>\n",
              "      <th>1</th>\n",
              "      <td>0</td>\n",
              "      <td>1.64</td>\n",
              "      <td>0</td>\n",
              "      <td>1922</td>\n",
              "      <td>0.695</td>\n",
              "      <td>0.2630</td>\n",
              "      <td>0</td>\n",
              "      <td>-22.136</td>\n",
              "      <td>1</td>\n",
              "      <td>0.9570</td>\n",
              "      <td>0.797</td>\n",
              "      <td>0.000000</td>\n",
              "      <td>0.1480</td>\n",
              "      <td>0.6550</td>\n",
              "      <td>102.009</td>\n",
              "      <td>1</td>\n",
              "      <td>0</td>\n",
              "    </tr>\n",
              "    <tr>\n",
              "      <th>2</th>\n",
              "      <td>0</td>\n",
              "      <td>3.03</td>\n",
              "      <td>0</td>\n",
              "      <td>1922</td>\n",
              "      <td>0.434</td>\n",
              "      <td>0.1770</td>\n",
              "      <td>1</td>\n",
              "      <td>-21.180</td>\n",
              "      <td>1</td>\n",
              "      <td>0.0512</td>\n",
              "      <td>0.994</td>\n",
              "      <td>0.021800</td>\n",
              "      <td>0.2120</td>\n",
              "      <td>0.4570</td>\n",
              "      <td>130.418</td>\n",
              "      <td>5</td>\n",
              "      <td>1</td>\n",
              "    </tr>\n",
              "    <tr>\n",
              "      <th>3</th>\n",
              "      <td>0</td>\n",
              "      <td>2.95</td>\n",
              "      <td>0</td>\n",
              "      <td>1922</td>\n",
              "      <td>0.321</td>\n",
              "      <td>0.0946</td>\n",
              "      <td>7</td>\n",
              "      <td>-27.961</td>\n",
              "      <td>1</td>\n",
              "      <td>0.0504</td>\n",
              "      <td>0.995</td>\n",
              "      <td>0.918000</td>\n",
              "      <td>0.1040</td>\n",
              "      <td>0.3970</td>\n",
              "      <td>169.980</td>\n",
              "      <td>3</td>\n",
              "      <td>1</td>\n",
              "    </tr>\n",
              "    <tr>\n",
              "      <th>4</th>\n",
              "      <td>0</td>\n",
              "      <td>2.72</td>\n",
              "      <td>0</td>\n",
              "      <td>1922</td>\n",
              "      <td>0.402</td>\n",
              "      <td>0.1580</td>\n",
              "      <td>3</td>\n",
              "      <td>-16.900</td>\n",
              "      <td>0</td>\n",
              "      <td>0.0390</td>\n",
              "      <td>0.989</td>\n",
              "      <td>0.130000</td>\n",
              "      <td>0.3110</td>\n",
              "      <td>0.1960</td>\n",
              "      <td>103.220</td>\n",
              "      <td>4</td>\n",
              "      <td>0</td>\n",
              "    </tr>\n",
              "    <tr>\n",
              "      <th>...</th>\n",
              "      <td>...</td>\n",
              "      <td>...</td>\n",
              "      <td>...</td>\n",
              "      <td>...</td>\n",
              "      <td>...</td>\n",
              "      <td>...</td>\n",
              "      <td>...</td>\n",
              "      <td>...</td>\n",
              "      <td>...</td>\n",
              "      <td>...</td>\n",
              "      <td>...</td>\n",
              "      <td>...</td>\n",
              "      <td>...</td>\n",
              "      <td>...</td>\n",
              "      <td>...</td>\n",
              "      <td>...</td>\n",
              "      <td>...</td>\n",
              "    </tr>\n",
              "    <tr>\n",
              "      <th>754828</th>\n",
              "      <td>72</td>\n",
              "      <td>2.55</td>\n",
              "      <td>0</td>\n",
              "      <td>2020</td>\n",
              "      <td>0.765</td>\n",
              "      <td>0.6630</td>\n",
              "      <td>0</td>\n",
              "      <td>-5.223</td>\n",
              "      <td>1</td>\n",
              "      <td>0.0652</td>\n",
              "      <td>0.141</td>\n",
              "      <td>0.000297</td>\n",
              "      <td>0.0924</td>\n",
              "      <td>0.6860</td>\n",
              "      <td>150.091</td>\n",
              "      <td>4</td>\n",
              "      <td>0</td>\n",
              "    </tr>\n",
              "    <tr>\n",
              "      <th>754829</th>\n",
              "      <td>70</td>\n",
              "      <td>3.13</td>\n",
              "      <td>0</td>\n",
              "      <td>2020</td>\n",
              "      <td>0.535</td>\n",
              "      <td>0.3140</td>\n",
              "      <td>7</td>\n",
              "      <td>-12.823</td>\n",
              "      <td>0</td>\n",
              "      <td>0.0408</td>\n",
              "      <td>0.895</td>\n",
              "      <td>0.000150</td>\n",
              "      <td>0.0874</td>\n",
              "      <td>0.0663</td>\n",
              "      <td>145.095</td>\n",
              "      <td>4</td>\n",
              "      <td>0</td>\n",
              "    </tr>\n",
              "    <tr>\n",
              "      <th>754830</th>\n",
              "      <td>58</td>\n",
              "      <td>2.37</td>\n",
              "      <td>0</td>\n",
              "      <td>2021</td>\n",
              "      <td>0.696</td>\n",
              "      <td>0.6150</td>\n",
              "      <td>10</td>\n",
              "      <td>-6.212</td>\n",
              "      <td>1</td>\n",
              "      <td>0.0345</td>\n",
              "      <td>0.206</td>\n",
              "      <td>0.000003</td>\n",
              "      <td>0.3050</td>\n",
              "      <td>0.4380</td>\n",
              "      <td>90.029</td>\n",
              "      <td>4</td>\n",
              "      <td>0</td>\n",
              "    </tr>\n",
              "    <tr>\n",
              "      <th>754831</th>\n",
              "      <td>58</td>\n",
              "      <td>2.37</td>\n",
              "      <td>0</td>\n",
              "      <td>2021</td>\n",
              "      <td>0.696</td>\n",
              "      <td>0.6150</td>\n",
              "      <td>10</td>\n",
              "      <td>-6.212</td>\n",
              "      <td>1</td>\n",
              "      <td>0.0345</td>\n",
              "      <td>0.206</td>\n",
              "      <td>0.000003</td>\n",
              "      <td>0.3050</td>\n",
              "      <td>0.4380</td>\n",
              "      <td>90.029</td>\n",
              "      <td>4</td>\n",
              "      <td>0</td>\n",
              "    </tr>\n",
              "    <tr>\n",
              "      <th>754832</th>\n",
              "      <td>38</td>\n",
              "      <td>3.57</td>\n",
              "      <td>0</td>\n",
              "      <td>2015</td>\n",
              "      <td>0.686</td>\n",
              "      <td>0.7230</td>\n",
              "      <td>6</td>\n",
              "      <td>-7.067</td>\n",
              "      <td>1</td>\n",
              "      <td>0.0363</td>\n",
              "      <td>0.105</td>\n",
              "      <td>0.000000</td>\n",
              "      <td>0.2640</td>\n",
              "      <td>0.9750</td>\n",
              "      <td>112.204</td>\n",
              "      <td>4</td>\n",
              "      <td>0</td>\n",
              "    </tr>\n",
              "  </tbody>\n",
              "</table>\n",
              "<p>754300 rows × 17 columns</p>\n",
              "</div>\n",
              "      <button class=\"colab-df-convert\" onclick=\"convertToInteractive('df-a9586111-17ec-487b-a04a-2e759c05c29c')\"\n",
              "              title=\"Convert this dataframe to an interactive table.\"\n",
              "              style=\"display:none;\">\n",
              "        \n",
              "  <svg xmlns=\"http://www.w3.org/2000/svg\" height=\"24px\"viewBox=\"0 0 24 24\"\n",
              "       width=\"24px\">\n",
              "    <path d=\"M0 0h24v24H0V0z\" fill=\"none\"/>\n",
              "    <path d=\"M18.56 5.44l.94 2.06.94-2.06 2.06-.94-2.06-.94-.94-2.06-.94 2.06-2.06.94zm-11 1L8.5 8.5l.94-2.06 2.06-.94-2.06-.94L8.5 2.5l-.94 2.06-2.06.94zm10 10l.94 2.06.94-2.06 2.06-.94-2.06-.94-.94-2.06-.94 2.06-2.06.94z\"/><path d=\"M17.41 7.96l-1.37-1.37c-.4-.4-.92-.59-1.43-.59-.52 0-1.04.2-1.43.59L10.3 9.45l-7.72 7.72c-.78.78-.78 2.05 0 2.83L4 21.41c.39.39.9.59 1.41.59.51 0 1.02-.2 1.41-.59l7.78-7.78 2.81-2.81c.8-.78.8-2.07 0-2.86zM5.41 20L4 18.59l7.72-7.72 1.47 1.35L5.41 20z\"/>\n",
              "  </svg>\n",
              "      </button>\n",
              "      \n",
              "  <style>\n",
              "    .colab-df-container {\n",
              "      display:flex;\n",
              "      flex-wrap:wrap;\n",
              "      gap: 12px;\n",
              "    }\n",
              "\n",
              "    .colab-df-convert {\n",
              "      background-color: #E8F0FE;\n",
              "      border: none;\n",
              "      border-radius: 50%;\n",
              "      cursor: pointer;\n",
              "      display: none;\n",
              "      fill: #1967D2;\n",
              "      height: 32px;\n",
              "      padding: 0 0 0 0;\n",
              "      width: 32px;\n",
              "    }\n",
              "\n",
              "    .colab-df-convert:hover {\n",
              "      background-color: #E2EBFA;\n",
              "      box-shadow: 0px 1px 2px rgba(60, 64, 67, 0.3), 0px 1px 3px 1px rgba(60, 64, 67, 0.15);\n",
              "      fill: #174EA6;\n",
              "    }\n",
              "\n",
              "    [theme=dark] .colab-df-convert {\n",
              "      background-color: #3B4455;\n",
              "      fill: #D2E3FC;\n",
              "    }\n",
              "\n",
              "    [theme=dark] .colab-df-convert:hover {\n",
              "      background-color: #434B5C;\n",
              "      box-shadow: 0px 1px 3px 1px rgba(0, 0, 0, 0.15);\n",
              "      filter: drop-shadow(0px 1px 2px rgba(0, 0, 0, 0.3));\n",
              "      fill: #FFFFFF;\n",
              "    }\n",
              "  </style>\n",
              "\n",
              "      <script>\n",
              "        const buttonEl =\n",
              "          document.querySelector('#df-a9586111-17ec-487b-a04a-2e759c05c29c button.colab-df-convert');\n",
              "        buttonEl.style.display =\n",
              "          google.colab.kernel.accessAllowed ? 'block' : 'none';\n",
              "\n",
              "        async function convertToInteractive(key) {\n",
              "          const element = document.querySelector('#df-a9586111-17ec-487b-a04a-2e759c05c29c');\n",
              "          const dataTable =\n",
              "            await google.colab.kernel.invokeFunction('convertToInteractive',\n",
              "                                                     [key], {});\n",
              "          if (!dataTable) return;\n",
              "\n",
              "          const docLinkHtml = 'Like what you see? Visit the ' +\n",
              "            '<a target=\"_blank\" href=https://colab.research.google.com/notebooks/data_table.ipynb>data table notebook</a>'\n",
              "            + ' to learn more about interactive tables.';\n",
              "          element.innerHTML = '';\n",
              "          dataTable['output_type'] = 'display_data';\n",
              "          await google.colab.output.renderOutput(dataTable, element);\n",
              "          const docLink = document.createElement('div');\n",
              "          docLink.innerHTML = docLinkHtml;\n",
              "          element.appendChild(docLink);\n",
              "        }\n",
              "      </script>\n",
              "    </div>\n",
              "  </div>\n",
              "  "
            ]
          },
          "metadata": {},
          "execution_count": 188
        }
      ]
    },
    {
      "cell_type": "markdown",
      "source": [
        "In total, after removing duplicates and illigal values in the data we remain with a dataset of size 754,300 rows and 17 columns\n",
        "\n",
        "(16 features, 1 target)."
      ],
      "metadata": {
        "id": "qS2WwEvyDedN"
      }
    },
    {
      "cell_type": "code",
      "source": [
        "df.shape"
      ],
      "metadata": {
        "colab": {
          "base_uri": "https://localhost:8080/"
        },
        "id": "1GgY_174DeJ5",
        "outputId": "9b9f2075-3881-401a-912d-edae47b17e98"
      },
      "execution_count": null,
      "outputs": [
        {
          "output_type": "execute_result",
          "data": {
            "text/plain": [
              "(754300, 17)"
            ]
          },
          "metadata": {},
          "execution_count": 189
        }
      ]
    },
    {
      "cell_type": "markdown",
      "metadata": {
        "id": "1VlUjvGZ_pvE"
      },
      "source": [
        "# Test Simple Model"
      ]
    },
    {
      "cell_type": "markdown",
      "source": [
        "We now test **naive linear regression model** to predict the song popularity score"
      ],
      "metadata": {
        "id": "xM8Wo_UMGoTp"
      }
    },
    {
      "cell_type": "code",
      "execution_count": null,
      "metadata": {
        "id": "ojQwQQZ77D7j"
      },
      "outputs": [],
      "source": [
        "from models import get_models_results, get_models"
      ]
    },
    {
      "cell_type": "code",
      "execution_count": null,
      "metadata": {
        "id": "DrHwfkvUuu_h"
      },
      "outputs": [],
      "source": [
        "model = get_models()"
      ]
    },
    {
      "cell_type": "code",
      "execution_count": null,
      "metadata": {
        "colab": {
          "base_uri": "https://localhost:8080/"
        },
        "id": "eS7TO4XnPhVx",
        "outputId": "db474533-a868-4f36-e293-e822472f5112"
      },
      "outputs": [
        {
          "output_type": "stream",
          "name": "stdout",
          "text": [
            "Splitting to Train/Test...\n",
            "Train Size: X=(603440, 16), Y=(603440,)\n",
            "Test Size: X=(150860, 16), Y=(150860,)\n",
            "Running model...\n"
          ]
        }
      ],
      "source": [
        "basic_results = get_models_results(df, 'popularity', model, test_size=0.2, save_models=False, is_basic=True)"
      ]
    },
    {
      "cell_type": "code",
      "execution_count": null,
      "metadata": {
        "id": "AnY4MpkpAVEr"
      },
      "outputs": [],
      "source": [
        "from visualization import get_scores_matrics"
      ]
    },
    {
      "cell_type": "code",
      "execution_count": null,
      "metadata": {
        "colab": {
          "base_uri": "https://localhost:8080/",
          "height": 81
        },
        "id": "LNO2DhPSCCv9",
        "outputId": "4f781713-3e94-4a0b-a0ed-40250be5abf7"
      },
      "outputs": [
        {
          "output_type": "execute_result",
          "data": {
            "text/plain": [
              "<pandas.io.formats.style.Styler at 0x7f8c03794450>"
            ],
            "text/html": [
              "<style type=\"text/css\">\n",
              "#T_573d0_row0_col0, #T_573d0_row0_col1, #T_573d0_row0_col2 {\n",
              "  background: lightgreen;\n",
              "}\n",
              "</style>\n",
              "<table id=\"T_573d0_\" class=\"dataframe\">\n",
              "  <thead>\n",
              "    <tr>\n",
              "      <th class=\"blank level0\" >&nbsp;</th>\n",
              "      <th class=\"col_heading level0 col0\" >RMSE</th>\n",
              "      <th class=\"col_heading level0 col1\" >MAE</th>\n",
              "      <th class=\"col_heading level0 col2\" >R^2</th>\n",
              "    </tr>\n",
              "  </thead>\n",
              "  <tbody>\n",
              "    <tr>\n",
              "      <th id=\"T_573d0_level0_row0\" class=\"row_heading level0 row0\" >Linear Regression</th>\n",
              "      <td id=\"T_573d0_row0_col0\" class=\"data row0 col0\" >14.385812</td>\n",
              "      <td id=\"T_573d0_row0_col1\" class=\"data row0 col1\" >11.015836</td>\n",
              "      <td id=\"T_573d0_row0_col2\" class=\"data row0 col2\" >0.434615</td>\n",
              "    </tr>\n",
              "  </tbody>\n",
              "</table>\n"
            ]
          },
          "metadata": {},
          "execution_count": 194
        }
      ],
      "source": [
        "get_scores_matrics([basic_results], \"Linear Regression\")"
      ]
    },
    {
      "cell_type": "markdown",
      "metadata": {
        "id": "7n3bM5iU-5b4"
      },
      "source": [
        "# Data Visualizations"
      ]
    },
    {
      "cell_type": "markdown",
      "source": [
        "We define the list of nomeric and categorical features that we have"
      ],
      "metadata": {
        "id": "O_S1P9HC_-5r"
      }
    },
    {
      "cell_type": "code",
      "execution_count": null,
      "metadata": {
        "id": "qHWM1zrOC21W"
      },
      "outputs": [],
      "source": [
        "numeric_features = ['danceability', 'speechiness', 'valence', 'liveness', \n",
        "                    'energy', 'acousticness', 'instrumentalness', 'loudness',\n",
        "                    'duration_minutes', 'tempo']\n",
        "\n",
        "categorical_features = ['mode', 'explicit', 'key', 'time_signature', 'genres', 'year']"
      ]
    },
    {
      "cell_type": "code",
      "execution_count": null,
      "metadata": {
        "colab": {
          "base_uri": "https://localhost:8080/",
          "height": 894
        },
        "id": "XAfsJ04fCyyJ",
        "outputId": "5a861196-22bc-44b3-e744-5edfa41dc66e"
      },
      "outputs": [
        {
          "output_type": "stream",
          "name": "stdout",
          "text": [
            "                               \u001b[1mVisualising Categorical Features:                                \n"
          ]
        },
        {
          "output_type": "display_data",
          "data": {
            "text/plain": [
              "<Figure size 1080x1080 with 4 Axes>"
            ],
            "image/png": "[encoded data removed]"
          },
          "metadata": {
            "needs_background": "light"
          }
        }
      ],
      "source": [
        "#Visualising the categorical features \n",
        "\n",
        "print('\\033[1mVisualising Categorical Features:'.center(100))\n",
        "\n",
        "plot_cat_features = list(set(categorical_features))\n",
        "\n",
        "\n",
        "fig = plt.figure(figsize=(15, 15))\n",
        "grid = plt.GridSpec(3, 2, wspace=0.6, hspace=0.6)\n",
        "\n",
        "ax1 = plt.subplot(grid[0, 0])\n",
        "sns.countplot(df.explicit, ax=ax1)\n",
        "ax2 = plt.subplot(grid[0, 1])\n",
        "sns.countplot(df['mode'], ax=ax2)\n",
        "\n",
        "ax3 = plt.subplot(grid[1, :])\n",
        "sns.countplot(df.key, ax=ax3)\n",
        "\n",
        "ax4 = plt.subplot(grid[2, :])\n",
        "sns.histplot(df.year, ax=ax4)\n",
        "\n",
        "plt.tight_layout()\n",
        "plt.show()"
      ]
    },
    {
      "cell_type": "code",
      "execution_count": null,
      "metadata": {
        "colab": {
          "base_uri": "https://localhost:8080/",
          "height": 335
        },
        "id": "1gkOha40C8MN",
        "outputId": "1abb6d86-a044-4df3-8301-1dedffc275ac"
      },
      "outputs": [
        {
          "output_type": "stream",
          "name": "stdout",
          "text": [
            "                                 \u001b[1mNumeric Features Distribution                                  \n"
          ]
        },
        {
          "output_type": "display_data",
          "data": {
            "text/plain": [
              "<Figure size 1080x576 with 10 Axes>"
            ],
            "image/png": "[encoded data removed]"
          },
          "metadata": {
            "needs_background": "light"
          }
        }
      ],
      "source": [
        "#Visualising the numeric features \n",
        "\n",
        "print('\\033[1mNumeric Features Distribution'.center(100))\n",
        "\n",
        "n=5\n",
        "\n",
        "clr=['r','g','b','g','b','r']\n",
        "\n",
        "plt.figure(figsize=[15,4*math.ceil(len(numeric_features)/n)])\n",
        "for i in range(len(numeric_features)):\n",
        "    plt.subplot(math.ceil(len(numeric_features)/3),n,i+1)\n",
        "    sns.distplot(df[numeric_features[i]],hist_kws=dict(edgecolor=\"black\", linewidth=2), bins=10, color=list(np.random.randint([255,255,255])/255))\n",
        "plt.tight_layout()\n",
        "plt.show()"
      ]
    },
    {
      "cell_type": "code",
      "execution_count": null,
      "metadata": {
        "colab": {
          "base_uri": "https://localhost:8080/",
          "height": 1000
        },
        "id": "OOoanj1eDVnx",
        "outputId": "c7a161df-2bf4-4f91-acfc-1a568f535ac3"
      },
      "outputs": [
        {
          "output_type": "execute_result",
          "data": {
            "text/plain": [
              "<matplotlib.axes._subplots.AxesSubplot at 0x7f8c3ac08a10>"
            ]
          },
          "metadata": {},
          "execution_count": 198
        },
        {
          "output_type": "display_data",
          "data": {
            "text/plain": [
              "<Figure size 1440x1440 with 2 Axes>"
            ],
            "image/png": "[encoded data removed]"
          },
          "metadata": {
            "needs_background": "light"
          }
        }
      ],
      "source": [
        "fig, ax = plt.subplots(figsize=(20,20)) \n",
        "\n",
        "sns.heatmap(df.corr(method='spearman'), cmap=\"YlGnBu\", annot=True,ax=ax)"
      ]
    },
    {
      "cell_type": "markdown",
      "metadata": {
        "id": "rPO5mtaWDoEu"
      },
      "source": [
        "Let's see the connection between Acousticness and the energy of the song."
      ]
    },
    {
      "cell_type": "code",
      "execution_count": null,
      "metadata": {
        "colab": {
          "base_uri": "https://localhost:8080/",
          "height": 296
        },
        "id": "CSE6-QKVDp2t",
        "outputId": "e68381f4-72e3-4bdf-e17f-0420eb39a5a3"
      },
      "outputs": [
        {
          "output_type": "execute_result",
          "data": {
            "text/plain": [
              "<matplotlib.axes._subplots.AxesSubplot at 0x7f8c09372790>"
            ]
          },
          "metadata": {},
          "execution_count": 199
        },
        {
          "output_type": "display_data",
          "data": {
            "text/plain": [
              "<Figure size 432x288 with 1 Axes>"
            ],
            "image/png": "[encoded data removed]"
          },
          "metadata": {
            "needs_background": "light"
          }
        }
      ],
      "source": [
        "sns.regplot(data=df.sample(10_000, replace=False), x='acousticness', y='energy', scatter_kws={'s':2})"
      ]
    },
    {
      "cell_type": "markdown",
      "metadata": {
        "id": "4UJViHZaDxwf"
      },
      "source": [
        "This pattern shows us that acoustic songs tend be have less \"energy\" (Represents a perceptual measure of intensity and activity. Typically, energetic tracks feel fast, loud, and noisy).\n",
        "\n",
        "This make sense in the manner that acoustic songs are mostly made with calm instruments and tend to be more \"soft\" than the original versions."
      ]
    },
    {
      "cell_type": "markdown",
      "metadata": {
        "id": "vTeYJzDbKFz_"
      },
      "source": [
        "# Simple models analyzation and insights"
      ]
    },
    {
      "cell_type": "markdown",
      "metadata": {
        "id": "5CBaEUmFMm_5"
      },
      "source": [
        "Let's create now a version of the Train and Test sets to investigate our basic model."
      ]
    },
    {
      "cell_type": "code",
      "execution_count": null,
      "metadata": {
        "id": "e_j_DhlnSavd"
      },
      "outputs": [],
      "source": [
        "y = df['popularity']\n",
        "X = df.drop(['popularity'], axis=1)\n",
        "\n",
        "X_train, X_test, y_train, y_test = train_test_split(X, y, test_size=0.2, random_state=42)"
      ]
    },
    {
      "cell_type": "code",
      "execution_count": null,
      "metadata": {
        "colab": {
          "base_uri": "https://localhost:8080/"
        },
        "id": "4LNmvKVZKIC7",
        "outputId": "c7b54691-b89f-40e0-f9cb-ce36d20d7dcd"
      },
      "outputs": [
        {
          "output_type": "stream",
          "name": "stdout",
          "text": [
            "(603440, 16)\n",
            "(150860, 16)\n",
            "(603440,)\n",
            "(150860,)\n"
          ]
        }
      ],
      "source": [
        "print(X_train.shape)\n",
        "print(X_test.shape)\n",
        "print(y_train.shape)\n",
        "print(y_test.shape)"
      ]
    },
    {
      "cell_type": "markdown",
      "metadata": {
        "id": "2yJ3pI8TMkv9"
      },
      "source": [
        "Now, let's compute the relative residuals of our model (the amout of relative error compared to the actual results)."
      ]
    },
    {
      "cell_type": "code",
      "execution_count": null,
      "metadata": {
        "id": "3Ckja6CYEqki"
      },
      "outputs": [],
      "source": [
        "y_hat = model.predict(X_test)\n",
        "residuals = y_test - y_hat\n",
        "\n",
        "rel_res=residuals/y_test\n",
        "rel_res=rel_res.abs()"
      ]
    },
    {
      "cell_type": "code",
      "execution_count": null,
      "metadata": {
        "colab": {
          "base_uri": "https://localhost:8080/"
        },
        "id": "vpCMeBZd4U0R",
        "outputId": "71e15a80-af46-45db-8202-17da5d89b378"
      },
      "outputs": [
        {
          "output_type": "execute_result",
          "data": {
            "text/plain": [
              "0.267963674930399"
            ]
          },
          "metadata": {},
          "execution_count": 203
        }
      ],
      "source": [
        "len(rel_res[rel_res > 0.9])/len(rel_res)"
      ]
    },
    {
      "cell_type": "markdown",
      "metadata": {
        "id": "uga_7azBM8Bg"
      },
      "source": [
        "We see that in ~26% of our dataset, our relative error is more that 90%"
      ]
    },
    {
      "cell_type": "code",
      "execution_count": null,
      "metadata": {
        "id": "ySIN4ZkgE7oS"
      },
      "outputs": [],
      "source": [
        "bad_predicted = df.loc[rel_res[rel_res > 0.9].index]"
      ]
    },
    {
      "cell_type": "markdown",
      "metadata": {
        "id": "ekX3vJSRLT8s"
      },
      "source": [
        "Get the shap values of the basic Linear Regression model.\n",
        "\n",
        "To start the whole explainer process , change the `load_basic_lin_shap` flag to `False` (Not Recommended! The explainer process take 2.5-3 hours!) "
      ]
    },
    {
      "cell_type": "code",
      "execution_count": null,
      "metadata": {
        "id": "zg2Qj0xK1Oc6"
      },
      "outputs": [],
      "source": [
        "load_basic_lin_shap = True\n",
        "\n",
        "if load_basic_lin_shap:\n",
        "    with open('basic_lin_reg_shap.pickle', 'rb') as f:\n",
        "        test_shap_values = pickle.load(f)\n",
        "else:\n",
        "    background_data = shap.maskers.Independent(X_train, max_samples=100)\n",
        "    explainer = shap.Explainer(model.predict, background_data)\n",
        "\n",
        "    test_shap_values = explainer(X_test)"
      ]
    },
    {
      "cell_type": "code",
      "execution_count": null,
      "metadata": {
        "colab": {
          "base_uri": "https://localhost:8080/",
          "height": 552
        },
        "id": "RATkeDgb1TcJ",
        "outputId": "d51ee23f-0fe7-486b-a141-83b4969c323e"
      },
      "outputs": [
        {
          "output_type": "display_data",
          "data": {
            "text/plain": [
              "<Figure size 576x612 with 3 Axes>"
            ],
            "image/png": "[encoded data removed]"
          },
          "metadata": {}
        }
      ],
      "source": [
        "shap.plots.waterfall(test_shap_values[2], max_display=14)"
      ]
    },
    {
      "cell_type": "code",
      "execution_count": null,
      "metadata": {
        "colab": {
          "base_uri": "https://localhost:8080/",
          "height": 455
        },
        "id": "p_Q8XsJF1VRx",
        "outputId": "e636b620-88fb-44c9-c59e-26e15cf19e30"
      },
      "outputs": [
        {
          "output_type": "display_data",
          "data": {
            "text/plain": [
              "<Figure size 576x511.2 with 2 Axes>"
            ],
            "image/png": "[encoded data removed]"
          },
          "metadata": {
            "needs_background": "light"
          }
        }
      ],
      "source": [
        "shap.plots.beeswarm(test_shap_values, max_display=14)"
      ]
    },
    {
      "cell_type": "markdown",
      "source": [
        "# Outliers removal"
      ],
      "metadata": {
        "id": "T3_WjmawJBqi"
      }
    },
    {
      "cell_type": "markdown",
      "source": [
        "Based on the visualization, we noticed some outliers in some of the features. We removed the outliers from the data because they are a noise and may cause difficulties in the predictions of the model"
      ],
      "metadata": {
        "id": "GKW4ypE0JJDd"
      }
    },
    {
      "cell_type": "code",
      "source": [
        "df = remove_outliers(df.copy())\n",
        "do_linearReg(df)"
      ],
      "metadata": {
        "colab": {
          "base_uri": "https://localhost:8080/"
        },
        "id": "TpVWZBfwhzm6",
        "outputId": "ac4a6b01-2b98-4c3e-fea2-b7ebc8bf83e8"
      },
      "execution_count": null,
      "outputs": [
        {
          "output_type": "stream",
          "name": "stdout",
          "text": [
            "Outliers removed.\n",
            "The outliers that remove were 5.71% from the whole data.\n",
            "r2_score: 0.439\n",
            "Mean Absolute Error (Σ|y-pred|/n): 10.95\n",
            "Root Mean Squared Error (sqrt(Σ(y-pred)^2/n)): 14.28\n"
          ]
        }
      ]
    },
    {
      "cell_type": "markdown",
      "source": [
        "# One hot encoding"
      ],
      "metadata": {
        "id": "Pcn629QitY67"
      }
    },
    {
      "cell_type": "markdown",
      "source": [
        "We wanted to  represent all the categorical features in the data. The most common method is by using One-Hot-Encoding."
      ],
      "metadata": {
        "id": "CVXIvtpTDc9R"
      }
    },
    {
      "cell_type": "code",
      "source": [
        "col_mode = pd.get_dummies(df[\"mode\"])\n",
        "col_explicit = pd.get_dummies(df[\"explicit\"])\n",
        "col_key = pd.get_dummies(df[\"key\"])\n",
        "col_time_signature = pd.get_dummies(df[\"time_signature\"])\n",
        "col_year = pd.get_dummies(df[\"year\"])\n",
        "col_genres = pd.get_dummies(df[\"genres\"])\n",
        "\n",
        "dfsm = pd.concat([df.drop(['explicit', 'time_signature', 'year', 'genres'], axis=1), col_explicit, col_time_signature, col_year, col_genres], axis='columns')\n",
        "do_linearReg(dfsm)"
      ],
      "metadata": {
        "colab": {
          "base_uri": "https://localhost:8080/"
        },
        "id": "jJIpNxudtWPV",
        "outputId": "b153783c-b426-4d65-9d87-134272d43e5e"
      },
      "execution_count": null,
      "outputs": [
        {
          "output_type": "stream",
          "name": "stdout",
          "text": [
            "r2_score: 0.476\n",
            "Mean Absolute Error (Σ|y-pred|/n): 10.38\n",
            "Root Mean Squared Error (sqrt(Σ(y-pred)^2/n)): 13.81\n"
          ]
        }
      ]
    },
    {
      "cell_type": "markdown",
      "metadata": {
        "id": "efnCajzixqEd"
      },
      "source": [
        "# Feature engineering and extraction"
      ]
    },
    {
      "cell_type": "code",
      "execution_count": null,
      "metadata": {
        "id": "rA40tfhJ6B53"
      },
      "outputs": [],
      "source": [
        "df_modified = dfsm.copy(deep=True)"
      ]
    },
    {
      "cell_type": "markdown",
      "metadata": {
        "id": "MsPpcnqpMZnv"
      },
      "source": [
        "### Change key+mode to scale with 1-hot"
      ]
    },
    {
      "cell_type": "markdown",
      "metadata": {
        "id": "0pTb9kYHS0Qv"
      },
      "source": [
        "We can see in the SHAP values above that the Mode and Key features have a low importance. We would like to try and increase the importance of those features.\n",
        "<br><br>\n",
        "As seen in the dataset overview, the Key of a song is the scale in which the song is composed where C=0 (Do), D=2 (Re), E=4 (Mi) etc...<br>\n",
        "The Mode indicates whether the song is in the Major scale or in the Minor scale wher minor=0 and major=1.\n",
        "<br><br>\n",
        "We wanted to combine both features into a single one (Scale) in order to increase the importance."
      ]
    },
    {
      "cell_type": "code",
      "execution_count": null,
      "metadata": {
        "id": "SAtZoy-kS-F3",
        "colab": {
          "base_uri": "https://localhost:8080/"
        },
        "outputId": "6db93821-c02b-4cc9-8552-3e6f98af71a2"
      },
      "outputs": [
        {
          "output_type": "display_data",
          "data": {
            "text/plain": [
              "<Figure size 720x216 with 2 Axes>"
            ],
            "image/png": "[encoded data removed]"
          },
          "metadata": {
            "needs_background": "light"
          }
        }
      ],
      "source": [
        "fig, (ax1, ax2) = plt.subplots(1,2, figsize=(10, 3))\n",
        "\n",
        "sns.countplot(bad_predicted.key, ax=ax1)\n",
        "sns.countplot(bad_predicted['mode'], ax=ax2)\n",
        "plt.tight_layout()\n",
        "\n",
        "plt.show()"
      ]
    },
    {
      "cell_type": "markdown",
      "metadata": {
        "id": "Q90-cIy8Wpo0"
      },
      "source": [
        "\n",
        "For example, the song 'Cry Me A River' by Ella Fitzgerald is in Key 8=G# and Mode 0=Minor.\n",
        "\n",
        "This means that the song is in the scale of G#m."
      ]
    },
    {
      "cell_type": "code",
      "execution_count": null,
      "metadata": {
        "colab": {
          "base_uri": "https://localhost:8080/"
        },
        "id": "GEasdSymUvIb",
        "outputId": "39957408-dfd8-40ba-f028-a034d9165803"
      },
      "outputs": [
        {
          "output_type": "execute_result",
          "data": {
            "text/plain": [
              "song_name    Cry Me A River\n",
              "key                       8\n",
              "mode                      0\n",
              "Name: 84544, dtype: object"
            ]
          },
          "metadata": {},
          "execution_count": 213
        }
      ],
      "source": [
        "df_tracks.loc[84544][['song_name', 'key', 'mode']]"
      ]
    },
    {
      "cell_type": "code",
      "execution_count": null,
      "metadata": {
        "id": "wxTUN8PbGZ_E"
      },
      "outputs": [],
      "source": [
        "keys = {0: 'C', 1: 'C#', 2: 'D', 3: 'D#', 4: 'E', 5: 'F', 6: 'F#', 7: 'G', 8: 'G#', 9: 'A', 10: 'A#', 11: 'B'}\n",
        "modes = {0: 'm', 1: ''}\n",
        "\n",
        "df_modified['scale'] = df_modified.key.apply(lambda x: keys[x]) + df_modified['mode'].apply(lambda x: modes[x])"
      ]
    },
    {
      "cell_type": "code",
      "execution_count": null,
      "metadata": {
        "id": "f8BhiFBZLhBB"
      },
      "outputs": [],
      "source": [
        "scales_dummies = pd.get_dummies(df_modified.scale, prefix='scale')\n",
        "\n",
        "df_modified = pd.concat([df_modified, scales_dummies], axis='columns')\n",
        "\n",
        "df_modified.drop('scale', inplace=True, axis=1)"
      ]
    },
    {
      "cell_type": "code",
      "execution_count": null,
      "metadata": {
        "id": "k9wUqNxxK5LU"
      },
      "outputs": [],
      "source": [
        "df_modified.drop(['key', 'mode'], axis=1, inplace=True)"
      ]
    },
    {
      "cell_type": "code",
      "execution_count": null,
      "metadata": {
        "colab": {
          "base_uri": "https://localhost:8080/"
        },
        "id": "OshdXEZXWy09",
        "outputId": "0c2caabf-b356-426c-ea65-0749a9f3c574"
      },
      "outputs": [
        {
          "output_type": "execute_result",
          "data": {
            "text/plain": [
              "<pandas.io.formats.style.Styler at 0x7f8c220498d0>"
            ],
            "text/html": [
              "<style type=\"text/css\">\n",
              "#T_68b09_row0_col0, #T_68b09_row0_col1, #T_68b09_row0_col2 {\n",
              "  background: lightgreen;\n",
              "}\n",
              "</style>\n",
              "<table id=\"T_68b09_\" class=\"dataframe\">\n",
              "  <thead>\n",
              "    <tr>\n",
              "      <th class=\"blank level0\" >&nbsp;</th>\n",
              "      <th class=\"col_heading level0 col0\" >RMSE</th>\n",
              "      <th class=\"col_heading level0 col1\" >MAE</th>\n",
              "      <th class=\"col_heading level0 col2\" >R^2</th>\n",
              "    </tr>\n",
              "  </thead>\n",
              "  <tbody>\n",
              "    <tr>\n",
              "      <th id=\"T_68b09_level0_row0\" class=\"row_heading level0 row0\" >Linear Regression</th>\n",
              "      <td id=\"T_68b09_row0_col0\" class=\"data row0 col0\" >13.798399</td>\n",
              "      <td id=\"T_68b09_row0_col1\" class=\"data row0 col1\" >10.375981</td>\n",
              "      <td id=\"T_68b09_row0_col2\" class=\"data row0 col2\" >0.476149</td>\n",
              "    </tr>\n",
              "  </tbody>\n",
              "</table>\n"
            ]
          },
          "metadata": {},
          "execution_count": 217
        }
      ],
      "source": [
        "mod_model = get_models()\n",
        "improved_results = get_models_results(df_modified, 'popularity', mod_model, test_size=0.2, verbose=False)\n",
        "\n",
        "get_scores_matrics([improved_results], \"Linear Regression\")"
      ]
    },
    {
      "cell_type": "markdown",
      "metadata": {
        "id": "9_qfoe8HSsT7"
      },
      "source": [
        "### Split Valence into bins"
      ]
    },
    {
      "cell_type": "markdown",
      "metadata": {
        "id": "bTz1sYLkd1xl"
      },
      "source": [
        "In the valence feature we see that the model mistakes all over the range on the feature.\n",
        "<br>\n",
        "We tried to split it into bins in order to have a more significent representation."
      ]
    },
    {
      "cell_type": "code",
      "execution_count": null,
      "metadata": {
        "colab": {
          "base_uri": "https://localhost:8080/",
          "height": 282
        },
        "id": "ICGwCyjtYCsR",
        "outputId": "af624b93-7ec2-4ca2-d921-0669c4e1787b"
      },
      "outputs": [
        {
          "output_type": "execute_result",
          "data": {
            "text/plain": [
              "<matplotlib.axes._subplots.AxesSubplot at 0x7f8c037e1810>"
            ]
          },
          "metadata": {},
          "execution_count": 218
        },
        {
          "output_type": "display_data",
          "data": {
            "text/plain": [
              "<Figure size 432x288 with 1 Axes>"
            ],
            "image/png": "[encoded data removed]"
          },
          "metadata": {
            "needs_background": "light"
          }
        }
      ],
      "source": [
        "bad_predicted.valence.hist()"
      ]
    },
    {
      "cell_type": "code",
      "execution_count": null,
      "metadata": {
        "id": "G7hu94NgSsBC"
      },
      "outputs": [],
      "source": [
        "valence_bins = [0, (1/3), (2/3), 1]\n",
        "valence_labels = ['sad', 'natural', 'happy']\n",
        "df_modified.valence = pd.cut(df_modified.valence, bins=valence_bins, labels=valence_labels)"
      ]
    },
    {
      "cell_type": "code",
      "execution_count": null,
      "metadata": {
        "id": "95Y8EGFsS8-R"
      },
      "outputs": [],
      "source": [
        "valence_dummies = pd.get_dummies(df_modified.valence, prefix='valence')\n",
        "\n",
        "df_modified = pd.concat([df_modified, valence_dummies], axis='columns')\n",
        "\n",
        "df_modified.drop('valence', inplace=True, axis=1)"
      ]
    },
    {
      "cell_type": "code",
      "execution_count": null,
      "metadata": {
        "colab": {
          "base_uri": "https://localhost:8080/",
          "height": 81
        },
        "id": "hAnHmNAhX1kf",
        "outputId": "f6dc70f0-d255-4a47-8f47-08dbeb0910e1"
      },
      "outputs": [
        {
          "output_type": "execute_result",
          "data": {
            "text/plain": [
              "<pandas.io.formats.style.Styler at 0x7f8c09506190>"
            ],
            "text/html": [
              "<style type=\"text/css\">\n",
              "#T_e69bf_row0_col0, #T_e69bf_row0_col1, #T_e69bf_row0_col2 {\n",
              "  background: lightgreen;\n",
              "}\n",
              "</style>\n",
              "<table id=\"T_e69bf_\" class=\"dataframe\">\n",
              "  <thead>\n",
              "    <tr>\n",
              "      <th class=\"blank level0\" >&nbsp;</th>\n",
              "      <th class=\"col_heading level0 col0\" >RMSE</th>\n",
              "      <th class=\"col_heading level0 col1\" >MAE</th>\n",
              "      <th class=\"col_heading level0 col2\" >R^2</th>\n",
              "    </tr>\n",
              "  </thead>\n",
              "  <tbody>\n",
              "    <tr>\n",
              "      <th id=\"T_e69bf_level0_row0\" class=\"row_heading level0 row0\" >Linear Regression</th>\n",
              "      <td id=\"T_e69bf_row0_col0\" class=\"data row0 col0\" >13.797733</td>\n",
              "      <td id=\"T_e69bf_row0_col1\" class=\"data row0 col1\" >10.375469</td>\n",
              "      <td id=\"T_e69bf_row0_col2\" class=\"data row0 col2\" >0.476200</td>\n",
              "    </tr>\n",
              "  </tbody>\n",
              "</table>\n"
            ]
          },
          "metadata": {},
          "execution_count": 221
        }
      ],
      "source": [
        "mod_model = get_models()\n",
        "improved_results = get_models_results(df_modified, 'popularity', mod_model, test_size=0.2, verbose=False)\n",
        "\n",
        "get_scores_matrics([improved_results], \"Linear Regression\")"
      ]
    },
    {
      "cell_type": "markdown",
      "metadata": {
        "id": "wCeGSD8viKau"
      },
      "source": [
        "### Split tempo into bins"
      ]
    },
    {
      "cell_type": "markdown",
      "metadata": {
        "id": "yhsg1jpzofaS"
      },
      "source": [
        "The model had most of its errors on the tempo feature in the meduim ranges (between 50 - 200)."
      ]
    },
    {
      "cell_type": "code",
      "execution_count": null,
      "metadata": {
        "colab": {
          "base_uri": "https://localhost:8080/",
          "height": 282
        },
        "id": "uUYtPfVvay2g",
        "outputId": "3ec60ef2-bd28-4c5d-cb83-f7a5bebfca0e"
      },
      "outputs": [
        {
          "output_type": "execute_result",
          "data": {
            "text/plain": [
              "<matplotlib.axes._subplots.AxesSubplot at 0x7f8c01fbff90>"
            ]
          },
          "metadata": {},
          "execution_count": 222
        },
        {
          "output_type": "display_data",
          "data": {
            "text/plain": [
              "<Figure size 432x288 with 1 Axes>"
            ],
            "image/png": "[encoded data removed]"
          },
          "metadata": {
            "needs_background": "light"
          }
        }
      ],
      "source": [
        "bad_predicted.tempo.hist()"
      ]
    },
    {
      "cell_type": "markdown",
      "metadata": {
        "id": "qSgnYafdpRVX"
      },
      "source": [
        "\n",
        "We have decided to split them into bins that will cluster most of the errors in the same/two classes (\"moderate\" and \"fast\" for tempo of 60-120 and 120-168 respectively. These numbers were taken from the musical definition of the tempo)."
      ]
    },
    {
      "cell_type": "code",
      "execution_count": null,
      "metadata": {
        "id": "p1Vq8E25L3Sf"
      },
      "outputs": [],
      "source": [
        "df_modified.drop(df_modified[df_modified.tempo < 20].index, inplace=True)"
      ]
    },
    {
      "cell_type": "code",
      "execution_count": null,
      "metadata": {
        "id": "hIrtqAULLmTT"
      },
      "outputs": [],
      "source": [
        "tempo_bins = [20, 60, 120, 168, 300]\n",
        "tempo_labels = ['slow', 'moderate', 'fast', 'very fast']\n",
        "df_modified.tempo = pd.cut(df_modified.tempo, bins=tempo_bins, labels=tempo_labels)"
      ]
    },
    {
      "cell_type": "code",
      "execution_count": null,
      "metadata": {
        "id": "Ig9cfqBaWeUi"
      },
      "outputs": [],
      "source": [
        "tempo_dummies = pd.get_dummies(df_modified.tempo, prefix='tempo')\n",
        "\n",
        "df_modified = pd.concat([df_modified, tempo_dummies], axis='columns')\n",
        "\n",
        "df_modified.drop('tempo', inplace=True, axis=1)"
      ]
    },
    {
      "cell_type": "code",
      "execution_count": null,
      "metadata": {
        "colab": {
          "base_uri": "https://localhost:8080/",
          "height": 81
        },
        "id": "yGqXVz8wbENn",
        "outputId": "72d2c9e4-b582-4798-fef0-ee44a8ec6653"
      },
      "outputs": [
        {
          "output_type": "execute_result",
          "data": {
            "text/plain": [
              "<pandas.io.formats.style.Styler at 0x7f8c02a3a150>"
            ],
            "text/html": [
              "<style type=\"text/css\">\n",
              "#T_fe5c7_row0_col0, #T_fe5c7_row0_col1, #T_fe5c7_row0_col2 {\n",
              "  background: lightgreen;\n",
              "}\n",
              "</style>\n",
              "<table id=\"T_fe5c7_\" class=\"dataframe\">\n",
              "  <thead>\n",
              "    <tr>\n",
              "      <th class=\"blank level0\" >&nbsp;</th>\n",
              "      <th class=\"col_heading level0 col0\" >RMSE</th>\n",
              "      <th class=\"col_heading level0 col1\" >MAE</th>\n",
              "      <th class=\"col_heading level0 col2\" >R^2</th>\n",
              "    </tr>\n",
              "  </thead>\n",
              "  <tbody>\n",
              "    <tr>\n",
              "      <th id=\"T_fe5c7_level0_row0\" class=\"row_heading level0 row0\" >Linear Regression</th>\n",
              "      <td id=\"T_fe5c7_row0_col0\" class=\"data row0 col0\" >13.780697</td>\n",
              "      <td id=\"T_fe5c7_row0_col1\" class=\"data row0 col1\" >10.367162</td>\n",
              "      <td id=\"T_fe5c7_row0_col2\" class=\"data row0 col2\" >0.477492</td>\n",
              "    </tr>\n",
              "  </tbody>\n",
              "</table>\n"
            ]
          },
          "metadata": {},
          "execution_count": 226
        }
      ],
      "source": [
        "mod_model = get_models()\n",
        "improved_results = get_models_results(df_modified, 'popularity', mod_model, test_size=0.2, verbose=False)\n",
        "\n",
        "get_scores_matrics([improved_results], \"Linear Regression\")"
      ]
    },
    {
      "cell_type": "markdown",
      "metadata": {
        "id": "4vFCUyKoSxmg"
      },
      "source": [
        "### Split Energy into bins"
      ]
    },
    {
      "cell_type": "markdown",
      "metadata": {
        "id": "9m0yW9BdumVL"
      },
      "source": [
        "The energy feature had a uniform error excpet for the part between 0.1 - 0.7.\n",
        "<br>\n",
        "For that reason we gave those values a class of their own while the values below and above were also split into different classes."
      ]
    },
    {
      "cell_type": "code",
      "execution_count": null,
      "metadata": {
        "colab": {
          "base_uri": "https://localhost:8080/",
          "height": 282
        },
        "id": "mpHjSH1Fbvys",
        "outputId": "43cf71f3-3f1d-4458-dadf-a164c66331d5"
      },
      "outputs": [
        {
          "output_type": "execute_result",
          "data": {
            "text/plain": [
              "<matplotlib.axes._subplots.AxesSubplot at 0x7f8c01f7fe50>"
            ]
          },
          "metadata": {},
          "execution_count": 227
        },
        {
          "output_type": "display_data",
          "data": {
            "text/plain": [
              "<Figure size 432x288 with 1 Axes>"
            ],
            "image/png": "[encoded data removed]"
          },
          "metadata": {
            "needs_background": "light"
          }
        }
      ],
      "source": [
        "bad_predicted.energy.hist()"
      ]
    },
    {
      "cell_type": "code",
      "execution_count": null,
      "metadata": {
        "id": "bipGjaiHS0_E"
      },
      "outputs": [],
      "source": [
        "energy_bins = [0, 0.1, 0.7, 1]\n",
        "energy_labels = ['low', 'avg', 'high']\n",
        "df_modified.energy = pd.cut(df_modified.energy, bins=energy_bins, labels=energy_labels)"
      ]
    },
    {
      "cell_type": "code",
      "execution_count": null,
      "metadata": {
        "id": "ehpwEVz4S3QV"
      },
      "outputs": [],
      "source": [
        "energy_dummies = pd.get_dummies(df_modified.energy, prefix='energy')\n",
        "\n",
        "df_modified = pd.concat([df_modified, energy_dummies], axis='columns')\n",
        "\n",
        "df_modified.drop('energy', inplace=True, axis=1)"
      ]
    },
    {
      "cell_type": "code",
      "execution_count": null,
      "metadata": {
        "colab": {
          "base_uri": "https://localhost:8080/",
          "height": 81
        },
        "id": "VfFBEz28bzGL",
        "outputId": "be6b32cc-f18a-4838-c1f0-c8e9788b2404"
      },
      "outputs": [
        {
          "output_type": "execute_result",
          "data": {
            "text/plain": [
              "<pandas.io.formats.style.Styler at 0x7f8c01f6c750>"
            ],
            "text/html": [
              "<style type=\"text/css\">\n",
              "#T_3173c_row0_col0, #T_3173c_row0_col1, #T_3173c_row0_col2 {\n",
              "  background: lightgreen;\n",
              "}\n",
              "</style>\n",
              "<table id=\"T_3173c_\" class=\"dataframe\">\n",
              "  <thead>\n",
              "    <tr>\n",
              "      <th class=\"blank level0\" >&nbsp;</th>\n",
              "      <th class=\"col_heading level0 col0\" >RMSE</th>\n",
              "      <th class=\"col_heading level0 col1\" >MAE</th>\n",
              "      <th class=\"col_heading level0 col2\" >R^2</th>\n",
              "    </tr>\n",
              "  </thead>\n",
              "  <tbody>\n",
              "    <tr>\n",
              "      <th id=\"T_3173c_level0_row0\" class=\"row_heading level0 row0\" >Linear Regression</th>\n",
              "      <td id=\"T_3173c_row0_col0\" class=\"data row0 col0\" >13.778908</td>\n",
              "      <td id=\"T_3173c_row0_col1\" class=\"data row0 col1\" >10.362093</td>\n",
              "      <td id=\"T_3173c_row0_col2\" class=\"data row0 col2\" >0.477628</td>\n",
              "    </tr>\n",
              "  </tbody>\n",
              "</table>\n"
            ]
          },
          "metadata": {},
          "execution_count": 230
        }
      ],
      "source": [
        "mod_model = get_models()\n",
        "improved_results = get_models_results(df_modified, 'popularity', mod_model, test_size=0.2, verbose=False)\n",
        "\n",
        "get_scores_matrics([improved_results], \"Linear Regression\")"
      ]
    },
    {
      "cell_type": "markdown",
      "metadata": {
        "id": "6WsPUzutUGjz"
      },
      "source": [
        "### Split Acousticness into bins"
      ]
    },
    {
      "cell_type": "markdown",
      "metadata": {
        "id": "RNF3l0Jd6vUF"
      },
      "source": [
        "The acousticness feature has 2 masses of errors on the boundries of the range (around 0 and around 1) while the rest of the values don't cause much errors."
      ]
    },
    {
      "cell_type": "code",
      "execution_count": null,
      "metadata": {
        "colab": {
          "base_uri": "https://localhost:8080/",
          "height": 282
        },
        "id": "xQoytumPb3Sg",
        "outputId": "41111de6-cca2-41b5-8c9b-984382d0ed43"
      },
      "outputs": [
        {
          "output_type": "execute_result",
          "data": {
            "text/plain": [
              "<matplotlib.axes._subplots.AxesSubplot at 0x7f8c01f9d390>"
            ]
          },
          "metadata": {},
          "execution_count": 231
        },
        {
          "output_type": "display_data",
          "data": {
            "text/plain": [
              "<Figure size 432x288 with 1 Axes>"
            ],
            "image/png": "[encoded data removed]"
          },
          "metadata": {
            "needs_background": "light"
          }
        }
      ],
      "source": [
        "bad_predicted.acousticness.hist()"
      ]
    },
    {
      "cell_type": "markdown",
      "metadata": {
        "id": "0NxblUBJ7CbG"
      },
      "source": [
        "For that reason, we have decided to split it into bins of 0-0.2, 0.2-0.4, 0.4-0.6, 0.6-0.8 and 0.8-1.0 which are equivalent to the bins of \"low\", \"low-avg\", \"avg\", \"high-avg\" and \"high\"."
      ]
    },
    {
      "cell_type": "code",
      "execution_count": null,
      "metadata": {
        "id": "tcgNI_2LUJuK"
      },
      "outputs": [],
      "source": [
        "acousticness_bins = [0, 0.2, 0.4, 0.6, 0.8, 1]\n",
        "acousticness_labels = ['low', 'low-avg', 'avg', 'avg-high', 'high']\n",
        "df_modified.acousticness = pd.cut(df_modified.acousticness, bins=acousticness_bins, labels=acousticness_labels)"
      ]
    },
    {
      "cell_type": "code",
      "execution_count": null,
      "metadata": {
        "id": "1SEUSWxRUKRl"
      },
      "outputs": [],
      "source": [
        "acousticness_dummies = pd.get_dummies(df_modified.acousticness, prefix='acousticness')\n",
        "\n",
        "df_modified = pd.concat([df_modified, acousticness_dummies], axis='columns')\n",
        "\n",
        "df_modified.drop('acousticness', inplace=True, axis=1)"
      ]
    },
    {
      "cell_type": "code",
      "execution_count": null,
      "metadata": {
        "colab": {
          "base_uri": "https://localhost:8080/",
          "height": 81
        },
        "id": "zejy0p-Vbz24",
        "outputId": "8f2eae9b-caa4-4367-b16d-a6544557834f"
      },
      "outputs": [
        {
          "output_type": "execute_result",
          "data": {
            "text/plain": [
              "<pandas.io.formats.style.Styler at 0x7f8c01cef850>"
            ],
            "text/html": [
              "<style type=\"text/css\">\n",
              "#T_573c0_row0_col0, #T_573c0_row0_col1, #T_573c0_row0_col2 {\n",
              "  background: lightgreen;\n",
              "}\n",
              "</style>\n",
              "<table id=\"T_573c0_\" class=\"dataframe\">\n",
              "  <thead>\n",
              "    <tr>\n",
              "      <th class=\"blank level0\" >&nbsp;</th>\n",
              "      <th class=\"col_heading level0 col0\" >RMSE</th>\n",
              "      <th class=\"col_heading level0 col1\" >MAE</th>\n",
              "      <th class=\"col_heading level0 col2\" >R^2</th>\n",
              "    </tr>\n",
              "  </thead>\n",
              "  <tbody>\n",
              "    <tr>\n",
              "      <th id=\"T_573c0_level0_row0\" class=\"row_heading level0 row0\" >Linear Regression</th>\n",
              "      <td id=\"T_573c0_row0_col0\" class=\"data row0 col0\" >13.768426</td>\n",
              "      <td id=\"T_573c0_row0_col1\" class=\"data row0 col1\" >10.355182</td>\n",
              "      <td id=\"T_573c0_row0_col2\" class=\"data row0 col2\" >0.478422</td>\n",
              "    </tr>\n",
              "  </tbody>\n",
              "</table>\n"
            ]
          },
          "metadata": {},
          "execution_count": 234
        }
      ],
      "source": [
        "mod_model = get_models()\n",
        "improved_results = get_models_results(df_modified, 'popularity', mod_model, test_size=0.2, verbose=False)\n",
        "\n",
        "get_scores_matrics([improved_results], \"Linear Regression\")"
      ]
    },
    {
      "cell_type": "markdown",
      "metadata": {
        "id": "uPsEYnTqV4Y1"
      },
      "source": [
        "### Split Loudness into bins"
      ]
    },
    {
      "cell_type": "markdown",
      "metadata": {
        "id": "g0HIwykzp7g0"
      },
      "source": [
        "For the loudness feature we saw that most of the errors are in the medium ranges (between -30 and -5) which lands in the 0.15 and 0.85 quantiles respectively."
      ]
    },
    {
      "cell_type": "code",
      "execution_count": null,
      "metadata": {
        "colab": {
          "base_uri": "https://localhost:8080/",
          "height": 282
        },
        "id": "wlaxzhDab3ti",
        "outputId": "f11b2b21-36db-4435-93cd-c5acd2fde04e"
      },
      "outputs": [
        {
          "output_type": "execute_result",
          "data": {
            "text/plain": [
              "<matplotlib.axes._subplots.AxesSubplot at 0x7f8c01d08a10>"
            ]
          },
          "metadata": {},
          "execution_count": 235
        },
        {
          "output_type": "display_data",
          "data": {
            "text/plain": [
              "<Figure size 432x288 with 1 Axes>"
            ],
            "image/png": "[encoded data removed]"
          },
          "metadata": {
            "needs_background": "light"
          }
        }
      ],
      "source": [
        "bad_predicted.loudness.hist()"
      ]
    },
    {
      "cell_type": "markdown",
      "metadata": {
        "id": "e-_h-e1GuToP"
      },
      "source": [
        "\n",
        "We splitted the feature into bins according to those values with the indications of \"quiet\", \"avg\" and \"loud\"."
      ]
    },
    {
      "cell_type": "code",
      "execution_count": null,
      "metadata": {
        "id": "51eCWRApV7Qg"
      },
      "outputs": [],
      "source": [
        "loudness_bins = [df.loudness.min(), df.loudness.quantile(.15), df.loudness.quantile(.85) , df.loudness.max()]\n",
        "\n",
        "loudness_labels = ['quiet', 'avg', 'loud']\n",
        "df_modified.loudness = pd.cut(df_modified.loudness, bins=loudness_bins, labels=loudness_labels)"
      ]
    },
    {
      "cell_type": "code",
      "execution_count": null,
      "metadata": {
        "id": "ffcbGU4qV8GA"
      },
      "outputs": [],
      "source": [
        "loudness_dummies = pd.get_dummies(df_modified.loudness, prefix='loudness')\n",
        "\n",
        "df_modified = pd.concat([df_modified, loudness_dummies], axis='columns')\n",
        "\n",
        "df_modified.drop('loudness', inplace=True, axis=1)"
      ]
    },
    {
      "cell_type": "code",
      "execution_count": null,
      "metadata": {
        "colab": {
          "base_uri": "https://localhost:8080/",
          "height": 81
        },
        "id": "Zv2BG8Wlb0fm",
        "outputId": "f7f18bf3-6c1d-40e0-8945-ebb85025d5c5"
      },
      "outputs": [
        {
          "output_type": "execute_result",
          "data": {
            "text/plain": [
              "<pandas.io.formats.style.Styler at 0x7f8c01d0db50>"
            ],
            "text/html": [
              "<style type=\"text/css\">\n",
              "#T_b4b35_row0_col0, #T_b4b35_row0_col1, #T_b4b35_row0_col2 {\n",
              "  background: lightgreen;\n",
              "}\n",
              "</style>\n",
              "<table id=\"T_b4b35_\" class=\"dataframe\">\n",
              "  <thead>\n",
              "    <tr>\n",
              "      <th class=\"blank level0\" >&nbsp;</th>\n",
              "      <th class=\"col_heading level0 col0\" >RMSE</th>\n",
              "      <th class=\"col_heading level0 col1\" >MAE</th>\n",
              "      <th class=\"col_heading level0 col2\" >R^2</th>\n",
              "    </tr>\n",
              "  </thead>\n",
              "  <tbody>\n",
              "    <tr>\n",
              "      <th id=\"T_b4b35_level0_row0\" class=\"row_heading level0 row0\" >Linear Regression</th>\n",
              "      <td id=\"T_b4b35_row0_col0\" class=\"data row0 col0\" >13.746083</td>\n",
              "      <td id=\"T_b4b35_row0_col1\" class=\"data row0 col1\" >10.335805</td>\n",
              "      <td id=\"T_b4b35_row0_col2\" class=\"data row0 col2\" >0.480114</td>\n",
              "    </tr>\n",
              "  </tbody>\n",
              "</table>\n"
            ]
          },
          "metadata": {},
          "execution_count": 238
        }
      ],
      "source": [
        "mod_model = get_models()\n",
        "improved_results = get_models_results(df_modified, 'popularity', mod_model, test_size=0.2, verbose=False)\n",
        "\n",
        "get_scores_matrics([improved_results], \"Linear Regression\")"
      ]
    },
    {
      "cell_type": "markdown",
      "metadata": {
        "id": "___svv-n44b-"
      },
      "source": [
        "### Split instrumentalness into bins"
      ]
    },
    {
      "cell_type": "markdown",
      "metadata": {
        "id": "Alfj-X2ECBgi"
      },
      "source": [
        "In the instrumentalness feature, most of the errors were made in the range of 0-0.2 values."
      ]
    },
    {
      "cell_type": "code",
      "execution_count": null,
      "metadata": {
        "colab": {
          "base_uri": "https://localhost:8080/",
          "height": 282
        },
        "id": "AaRfcyRm2W5L",
        "outputId": "9f10db62-46dc-4373-99b1-fed6fb0372a8"
      },
      "outputs": [
        {
          "output_type": "execute_result",
          "data": {
            "text/plain": [
              "<matplotlib.axes._subplots.AxesSubplot at 0x7f8c01c291d0>"
            ]
          },
          "metadata": {},
          "execution_count": 239
        },
        {
          "output_type": "display_data",
          "data": {
            "text/plain": [
              "<Figure size 432x288 with 1 Axes>"
            ],
            "image/png": "[encoded data removed]"
          },
          "metadata": {
            "needs_background": "light"
          }
        }
      ],
      "source": [
        "bad_predicted.instrumentalness.hist()"
      ]
    },
    {
      "cell_type": "markdown",
      "metadata": {
        "id": "Y2qYAquMCfdO"
      },
      "source": [
        "\n",
        "We have decided to combine all of those into a different class and also gather all values between 0.2-0.8 and 0.8-1.0 into 2 different classes."
      ]
    },
    {
      "cell_type": "code",
      "execution_count": null,
      "metadata": {
        "id": "6ZK-F2mQ2Qoe"
      },
      "outputs": [],
      "source": [
        "instrumentalness_bins = [0, 0.2, 0.8, 1]\n",
        "\n",
        "instrumentalness_labels = ['low instrumental', 'avg instrumental', 'high instrumental']\n",
        "df_modified.instrumentalness = pd.cut(df_modified.instrumentalness, bins=instrumentalness_bins, labels=instrumentalness_labels)"
      ]
    },
    {
      "cell_type": "code",
      "execution_count": null,
      "metadata": {
        "id": "DUgkbfJ92hc8"
      },
      "outputs": [],
      "source": [
        "instrumentalness_dummies = pd.get_dummies(df_modified.instrumentalness, prefix='instrumentalness')\n",
        "\n",
        "df_modified = pd.concat([df_modified, instrumentalness_dummies], axis='columns')\n",
        "\n",
        "df_modified.drop('instrumentalness', inplace=True, axis=1)"
      ]
    },
    {
      "cell_type": "code",
      "execution_count": null,
      "metadata": {
        "colab": {
          "base_uri": "https://localhost:8080/",
          "height": 81
        },
        "id": "32zxPpI02jv6",
        "outputId": "0ed59243-4040-412b-85ec-f7054024b92d"
      },
      "outputs": [
        {
          "output_type": "execute_result",
          "data": {
            "text/plain": [
              "<pandas.io.formats.style.Styler at 0x7f8c01c2ea10>"
            ],
            "text/html": [
              "<style type=\"text/css\">\n",
              "#T_b63a9_row0_col0, #T_b63a9_row0_col1, #T_b63a9_row0_col2 {\n",
              "  background: lightgreen;\n",
              "}\n",
              "</style>\n",
              "<table id=\"T_b63a9_\" class=\"dataframe\">\n",
              "  <thead>\n",
              "    <tr>\n",
              "      <th class=\"blank level0\" >&nbsp;</th>\n",
              "      <th class=\"col_heading level0 col0\" >RMSE</th>\n",
              "      <th class=\"col_heading level0 col1\" >MAE</th>\n",
              "      <th class=\"col_heading level0 col2\" >R^2</th>\n",
              "    </tr>\n",
              "  </thead>\n",
              "  <tbody>\n",
              "    <tr>\n",
              "      <th id=\"T_b63a9_level0_row0\" class=\"row_heading level0 row0\" >Linear Regression</th>\n",
              "      <td id=\"T_b63a9_row0_col0\" class=\"data row0 col0\" >13.737477</td>\n",
              "      <td id=\"T_b63a9_row0_col1\" class=\"data row0 col1\" >10.326683</td>\n",
              "      <td id=\"T_b63a9_row0_col2\" class=\"data row0 col2\" >0.480765</td>\n",
              "    </tr>\n",
              "  </tbody>\n",
              "</table>\n"
            ]
          },
          "metadata": {},
          "execution_count": 242
        }
      ],
      "source": [
        "mod_model = get_models()\n",
        "improved_results = get_models_results(df_modified, 'popularity', mod_model, test_size=0.2, verbose=False)\n",
        "\n",
        "get_scores_matrics([improved_results], \"Linear Regression\")"
      ]
    },
    {
      "cell_type": "markdown",
      "metadata": {
        "id": "FUZPTjbfE2Xz"
      },
      "source": [
        "# Test improved Models"
      ]
    },
    {
      "cell_type": "markdown",
      "metadata": {
        "id": "alAsETHedjKp"
      },
      "source": [
        "Let's put it all together and compare between the basic model and the improved model:"
      ]
    },
    {
      "cell_type": "code",
      "execution_count": null,
      "metadata": {
        "id": "QQ8zo9VWYi4X"
      },
      "outputs": [],
      "source": [
        "X_mod = df_modified.drop(['popularity'], axis=1)\n",
        "y_mod = df_modified['popularity']\n",
        "X_train_mod, X_test_mod, y_train_mod, y_test_mod = train_test_split(X_mod, y_mod, test_size=0.2, random_state=42)"
      ]
    },
    {
      "cell_type": "markdown",
      "metadata": {
        "id": "VyEK9ovn_eI8"
      },
      "source": [
        "Train Model"
      ]
    },
    {
      "cell_type": "code",
      "execution_count": null,
      "metadata": {
        "id": "7j3nzxVwJrmU"
      },
      "outputs": [],
      "source": [
        "model = LinearRegression().fit(X_train_mod, y_train_mod)\n",
        "\n",
        "y_hat_mod = model.predict(X_test_mod)\n",
        "\n",
        "rmse = mean_squared_error(y_test_mod, y_hat_mod, squared=False)\n",
        "mae = mean_absolute_error(y_test_mod, y_hat_mod)\n",
        "r2 = r2_score(y_test_mod, y_hat_mod)\n",
        "\n",
        "improved_results = {'RMSE': rmse, 'MAE': mae, 'R^2': r2}"
      ]
    },
    {
      "cell_type": "code",
      "execution_count": null,
      "metadata": {
        "colab": {
          "base_uri": "https://localhost:8080/",
          "height": 112
        },
        "id": "zqwPNM_BQyxx",
        "outputId": "3efc3482-d611-49f1-b801-d0144aa18c1b"
      },
      "outputs": [
        {
          "output_type": "execute_result",
          "data": {
            "text/plain": [
              "<pandas.io.formats.style.Styler at 0x7f8c01cfc550>"
            ],
            "text/html": [
              "<style type=\"text/css\">\n",
              "#T_e2daa_row1_col0, #T_e2daa_row1_col1, #T_e2daa_row1_col2 {\n",
              "  background: lightgreen;\n",
              "}\n",
              "</style>\n",
              "<table id=\"T_e2daa_\" class=\"dataframe\">\n",
              "  <thead>\n",
              "    <tr>\n",
              "      <th class=\"blank level0\" >&nbsp;</th>\n",
              "      <th class=\"col_heading level0 col0\" >RMSE</th>\n",
              "      <th class=\"col_heading level0 col1\" >MAE</th>\n",
              "      <th class=\"col_heading level0 col2\" >R^2</th>\n",
              "    </tr>\n",
              "  </thead>\n",
              "  <tbody>\n",
              "    <tr>\n",
              "      <th id=\"T_e2daa_level0_row0\" class=\"row_heading level0 row0\" >Linear Regression</th>\n",
              "      <td id=\"T_e2daa_row0_col0\" class=\"data row0 col0\" >14.385812</td>\n",
              "      <td id=\"T_e2daa_row0_col1\" class=\"data row0 col1\" >11.015836</td>\n",
              "      <td id=\"T_e2daa_row0_col2\" class=\"data row0 col2\" >0.434615</td>\n",
              "    </tr>\n",
              "    <tr>\n",
              "      <th id=\"T_e2daa_level0_row1\" class=\"row_heading level0 row1\" >Improved Model</th>\n",
              "      <td id=\"T_e2daa_row1_col0\" class=\"data row1 col0\" >13.737477</td>\n",
              "      <td id=\"T_e2daa_row1_col1\" class=\"data row1 col1\" >10.326683</td>\n",
              "      <td id=\"T_e2daa_row1_col2\" class=\"data row1 col2\" >0.480765</td>\n",
              "    </tr>\n",
              "  </tbody>\n",
              "</table>\n"
            ]
          },
          "metadata": {},
          "execution_count": 245
        }
      ],
      "source": [
        "combined_results = [\n",
        "    basic_results,\n",
        "    improved_results\n",
        "]\n",
        "\n",
        "get_scores_matrics(combined_results, \"Linear Regression\", \"Improved Model\")"
      ]
    },
    {
      "cell_type": "code",
      "source": [
        "from collections import defaultdict\n",
        "\n",
        "data = defaultdict(list)\n",
        "\n",
        "for model_results in combined_results:\n",
        "    data['RMSE'].append(model_results['RMSE'])\n",
        "    data['MAE'].append(model_results['MAE'])\n",
        "    data['R^2'].append(model_results['R^2'])\n",
        "\n",
        "scores = pd.DataFrame({\n",
        "    'Score': ['RMSE', 'MAE', 'R^2'], \n",
        "    'Basic Model': [data['RMSE'][0], data['MAE'][0], data['R^2'][0]],\n",
        "    'Improved Model': [data['RMSE'][1], data['MAE'][1], data['R^2'][1]],\n",
        "})"
      ],
      "metadata": {
        "id": "t9FoWeklR1KQ"
      },
      "execution_count": null,
      "outputs": []
    },
    {
      "cell_type": "code",
      "source": [
        "scores = scores.melt(id_vars='Score').rename(columns=str.title)"
      ],
      "metadata": {
        "id": "haIn0wHGTWk8"
      },
      "execution_count": null,
      "outputs": []
    },
    {
      "cell_type": "code",
      "source": [
        "fig, ax1 = plt.subplots(figsize=(5, 5))\n",
        "sns.barplot(\n",
        "    data=scores,\n",
        "    x='Score',\n",
        "    y='Value',\n",
        "    hue='Variable',\n",
        "    ax=ax1\n",
        ")\n",
        "\n",
        "sns.despine(fig)"
      ],
      "metadata": {
        "colab": {
          "base_uri": "https://localhost:8080/",
          "height": 334
        },
        "id": "5GO3FrtcSEe8",
        "outputId": "cd6821f9-f547-4e28-d852-d881845ef223"
      },
      "execution_count": null,
      "outputs": [
        {
          "output_type": "display_data",
          "data": {
            "text/plain": [
              "<Figure size 360x360 with 1 Axes>"
            ],
            "image/png": "[encoded data removed]"
          },
          "metadata": {
            "needs_background": "light"
          }
        }
      ]
    },
    {
      "cell_type": "markdown",
      "metadata": {
        "id": "6MZKHFuzpd0Z"
      },
      "source": [
        "The improved model has some significent advantage over the basic model.\n",
        "\n",
        "The $MAE$ dropped in 0.069 scores, the $RMSE$ dropped in 0.65 scores and the $R^2$ increased in 0.044 scores."
      ]
    },
    {
      "cell_type": "markdown",
      "source": [
        "# Conclusion"
      ],
      "metadata": {
        "id": "xyXuBiFEOi2N"
      }
    },
    {
      "cell_type": "markdown",
      "source": [
        "We have to examined the ability to predict the popularity score of a song, based on several Spotify features with linear regression model.\n",
        "\n",
        "After preproccesing the data and dealing with missing values, we did some analyzations of the model and the errors it made.\n",
        "<br>\n",
        "Based on those analyzations we used several methods and approaches to improve our naive model (outliers remove, encoding categorical features, feature engeeniring etc...)\n",
        "\n",
        "We also tried other methods but they didn't make a significant improve (use standard and minmax scaler, ordinal encoding, data transformation, using diffrent models etc...)\n",
        "\n",
        "Thank for the course!\n",
        "\n",
        "Nadav and Daniel\n"
      ],
      "metadata": {
        "id": "9nQCKiPrOmTk"
      }
    }
  ],
  "metadata": {
    "colab": {
      "collapsed_sections": [
        "xopPxrSv2DHG",
        "MsPpcnqpMZnv"
      ],
      "name": "DS workshop - Final Notebook.ipynb",
      "provenance": [],
      "toc_visible": true
    },
    "kernelspec": {
      "display_name": "Python 3",
      "name": "python3"
    },
    "language_info": {
      "name": "python"
    }
  },
  "nbformat": 4,
  "nbformat_minor": 0
}